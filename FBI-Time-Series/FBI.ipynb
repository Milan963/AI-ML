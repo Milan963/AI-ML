{
  "cells": [
    {
      "cell_type": "markdown",
      "metadata": {
        "id": "vncDsAP0Gaoa"
      },
      "source": [
        "# **Project Name**    - FBI TIMESERIES FORECASTING\n",
        "\n"
      ]
    },
    {
      "cell_type": "markdown",
      "metadata": {
        "id": "beRrZCGUAJYm"
      },
      "source": [
        "##### **Project Type**    - EDA/Regression/Classification/Unsupervised\n",
        "##### **Contribution**    - Individual\n",
        "##### **Team Member 1 -** SOLANKI MILAN"
      ]
    },
    {
      "cell_type": "markdown",
      "metadata": {
        "id": "FJNUwmbgGyua"
      },
      "source": [
        "# **Project Summary -**"
      ]
    },
    {
      "cell_type": "markdown",
      "metadata": {
        "id": "F6v_1wHtG2nS"
      },
      "source": [
        "Crime Incident Prediction Using Machine Learning \n",
        "\n",
        "In today’s world, predicting crime incidents is crucial for improving public safety and optimizing law enforcement efforts. This project aimed to develop a machine-learning model that forecasts the monthly number of crime incidents using historical crime data. By leveraging advanced data preprocessing, feature engineering, and model implementation techniques, we built and evaluated multiple models to identify the most accurate and reliable approach.\n",
        "\n",
        "Data Collection and Preprocessing\n",
        "\n",
        "Feature Engineering and Selection\n",
        "\n",
        "Model Implementation\n",
        "\n",
        "Model Evaluation\n",
        "\n",
        "Business Impact\n",
        "\n",
        "Accurate crime prediction models provide actionable insights for law enforcement agencies:\n",
        "\n",
        "Proactive Crime Prevention – Identifying high-risk months and seasons helps allocate resources efficiently.\n",
        "\n",
        "Improved Public Safety – Enables authorities to increase surveillance in high-crime areas.\n",
        "\n",
        "Strategic Decision-Making – Supports planning for seasonal crime surges.\n",
        "\n",
        "Future Scope\n",
        "\n",
        "Future improvements could include:\n",
        "\n",
        "Incorporating additional datasets (e.g., socio-economic factors, weather).\n",
        "\n",
        "Exploring ensemble models like XGBoost or Random Forest for enhanced performance.\n",
        "\n",
        "Deploying the model in real-time dashboards for law enforcement.\n"
      ]
    },
    {
      "cell_type": "markdown",
      "metadata": {
        "id": "w6K7xa23Elo4"
      },
      "source": [
        "# **GitHub Link -**"
      ]
    },
    {
      "cell_type": "markdown",
      "metadata": {
        "id": "h1o69JH3Eqqn"
      },
      "source": [
        "Provide your GitHub Link here."
      ]
    },
    {
      "cell_type": "markdown",
      "metadata": {
        "id": "yQaldy8SH6Dl"
      },
      "source": [
        "# **Problem Statement**\n"
      ]
    },
    {
      "cell_type": "markdown",
      "metadata": {
        "id": "DpeJGUA3kjGy"
      },
      "source": [
        "This project focuses on developing a predictive model that estimates the number of crime incidents on a monthly basis using detailed data at the day and hour level. The data includes information such as crime types, geographical coordinates (latitude and longitude), neighborhood details, and time stamps, allowing for a comprehensive analysis of both spatial and temporal patterns in crime data. By understanding when and where crimes are most likely to occur, law enforcement agencies can optimize patrol schedules, allocate personnel more efficiently, and deploy resources where they are needed most."
      ]
    },
    {
      "cell_type": "markdown",
      "metadata": {
        "id": "mDgbUHAGgjLW"
      },
      "source": [
        "# **General Guidelines** : -  "
      ]
    },
    {
      "cell_type": "markdown",
      "metadata": {
        "id": "ZrxVaUj-hHfC"
      },
      "source": [
        "1.   Well-structured, formatted, and commented code is required.\n",
        "2.   Exception Handling, Production Grade Code & Deployment Ready Code will be a plus. Those students will be awarded some additional credits.\n",
        "     \n",
        "     The additional credits will have advantages over other students during Star Student selection.\n",
        "       \n",
        "             [ Note: - Deployment Ready Code is defined as, the whole .ipynb notebook should be executable in one go\n",
        "                       without a single error logged. ]\n",
        "\n",
        "3.   Each and every logic should have proper comments.\n",
        "4. You may add as many number of charts you want. Make Sure for each and every chart the following format should be answered.\n",
        "        \n",
        "\n",
        "```\n",
        "# Chart visualization code\n",
        "```\n",
        "            \n",
        "\n",
        "*   Why did you pick the specific chart?\n",
        "*   What is/are the insight(s) found from the chart?\n",
        "* Will the gained insights help creating a positive business impact?\n",
        "Are there any insights that lead to negative growth? Justify with specific reason.\n",
        "\n",
        "5. You have to create at least 15 logical & meaningful charts having important insights.\n",
        "\n",
        "\n",
        "[ Hints : - Do the Vizualization in  a structured way while following \"UBM\" Rule.\n",
        "\n",
        "U - Univariate Analysis,\n",
        "\n",
        "B - Bivariate Analysis (Numerical - Categorical, Numerical - Numerical, Categorical - Categorical)\n",
        "\n",
        "M - Multivariate Analysis\n",
        " ]\n",
        "\n",
        "\n",
        "\n",
        "\n",
        "\n",
        "6. You may add more ml algorithms for model creation. Make sure for each and every algorithm, the following format should be answered.\n",
        "\n",
        "\n",
        "*   Explain the ML Model used and it's performance using Evaluation metric Score Chart.\n",
        "\n",
        "\n",
        "*   Cross- Validation & Hyperparameter Tuning\n",
        "\n",
        "*   Have you seen any improvement? Note down the improvement with updates Evaluation metric Score Chart.\n",
        "\n",
        "*   Explain each evaluation metric's indication towards business and the business impact pf the ML model used.\n",
        "\n",
        "\n",
        "\n",
        "\n",
        "\n",
        "\n",
        "\n",
        "\n",
        "\n",
        "\n",
        "\n",
        "\n",
        "\n",
        "\n",
        "\n",
        "\n",
        "\n",
        "\n"
      ]
    },
    {
      "cell_type": "markdown",
      "metadata": {
        "id": "O_i_v8NEhb9l"
      },
      "source": [
        "# ***Let's Begin !***"
      ]
    },
    {
      "cell_type": "markdown",
      "metadata": {
        "id": "HhfV-JJviCcP"
      },
      "source": [
        "## ***1. Know Your Data***"
      ]
    },
    {
      "cell_type": "markdown",
      "metadata": {
        "id": "Y3lxredqlCYt"
      },
      "source": [
        "### Import Libraries"
      ]
    },
    {
      "cell_type": "code",
      "execution_count": 2,
      "metadata": {
        "id": "M8Vqi-pPk-HR"
      },
      "outputs": [],
      "source": [
        "# Import Libraries\n",
        "import pandas as pd\n",
        "import numpy as np\n",
        "import matplotlib.pyplot as plt\n",
        "import seaborn as sns"
      ]
    },
    {
      "cell_type": "markdown",
      "metadata": {
        "id": "3RnN4peoiCZX"
      },
      "source": [
        "### Dataset Loading"
      ]
    },
    {
      "cell_type": "code",
      "execution_count": 3,
      "metadata": {},
      "outputs": [],
      "source": [
        "train= pd.read_excel(\"/Users/milansolanki/Desktop/ML internship/project5/Train.xlsx\")"
      ]
    },
    {
      "cell_type": "markdown",
      "metadata": {
        "id": "x71ZqKXriCWQ"
      },
      "source": [
        "### Dataset First View"
      ]
    },
    {
      "cell_type": "code",
      "execution_count": 4,
      "metadata": {
        "id": "LWNFOSvLl09H"
      },
      "outputs": [
        {
          "name": "stdout",
          "output_type": "stream",
          "text": [
            "          TYPE     HUNDRED_BLOCK NEIGHBOURHOOD         X           Y  \\\n",
            "0  Other Theft  9XX TERMINAL AVE    Strathcona  493906.5  5457452.47   \n",
            "1  Other Theft  9XX TERMINAL AVE    Strathcona  493906.5  5457452.47   \n",
            "2  Other Theft  9XX TERMINAL AVE    Strathcona  493906.5  5457452.47   \n",
            "3  Other Theft  9XX TERMINAL AVE    Strathcona  493906.5  5457452.47   \n",
            "4  Other Theft  9XX TERMINAL AVE    Strathcona  493906.5  5457452.47   \n",
            "\n",
            "    Latitude   Longitude  HOUR  MINUTE  YEAR  MONTH  DAY       Date  \n",
            "0  49.269802 -123.083763  16.0    15.0  1999      5   12 1999-05-12  \n",
            "1  49.269802 -123.083763  15.0    20.0  1999      5    7 1999-05-07  \n",
            "2  49.269802 -123.083763  16.0    40.0  1999      4   23 1999-04-23  \n",
            "3  49.269802 -123.083763  11.0    15.0  1999      4   20 1999-04-20  \n",
            "4  49.269802 -123.083763  17.0    45.0  1999      4   12 1999-04-12  \n"
          ]
        }
      ],
      "source": [
        "# Dataset First Look\n",
        "print(train.head())"
      ]
    },
    {
      "cell_type": "markdown",
      "metadata": {
        "id": "7hBIi_osiCS2"
      },
      "source": [
        "### Dataset Rows & Columns count"
      ]
    },
    {
      "cell_type": "code",
      "execution_count": 5,
      "metadata": {
        "id": "Kllu7SJgmLij"
      },
      "outputs": [
        {
          "name": "stdout",
          "output_type": "stream",
          "text": [
            "Dataset (Rows & Columns): (474565, 13)\n"
          ]
        }
      ],
      "source": [
        "# Dataset Rows & Columns count\n",
        "print(\"Dataset (Rows & Columns):\",train.shape)\n"
      ]
    },
    {
      "cell_type": "markdown",
      "metadata": {
        "id": "JlHwYmJAmNHm"
      },
      "source": [
        "### Dataset Information"
      ]
    },
    {
      "cell_type": "code",
      "execution_count": 6,
      "metadata": {
        "id": "e9hRXRi6meOf"
      },
      "outputs": [
        {
          "name": "stdout",
          "output_type": "stream",
          "text": [
            "\n",
            "Dataset Info:\n",
            "<class 'pandas.core.frame.DataFrame'>\n",
            "RangeIndex: 474565 entries, 0 to 474564\n",
            "Data columns (total 13 columns):\n",
            " #   Column         Non-Null Count   Dtype         \n",
            "---  ------         --------------   -----         \n",
            " 0   TYPE           474565 non-null  object        \n",
            " 1   HUNDRED_BLOCK  474552 non-null  object        \n",
            " 2   NEIGHBOURHOOD  423074 non-null  object        \n",
            " 3   X              474565 non-null  float64       \n",
            " 4   Y              474565 non-null  float64       \n",
            " 5   Latitude       474565 non-null  float64       \n",
            " 6   Longitude      474565 non-null  float64       \n",
            " 7   HOUR           425200 non-null  float64       \n",
            " 8   MINUTE         425200 non-null  float64       \n",
            " 9   YEAR           474565 non-null  int64         \n",
            " 10  MONTH          474565 non-null  int64         \n",
            " 11  DAY            474565 non-null  int64         \n",
            " 12  Date           474565 non-null  datetime64[ns]\n",
            "dtypes: datetime64[ns](1), float64(6), int64(3), object(3)\n",
            "memory usage: 47.1+ MB\n",
            "None\n"
          ]
        }
      ],
      "source": [
        "# Dataset Info\n",
        "print(\"\\nDataset Info:\")\n",
        "print(train.info())"
      ]
    },
    {
      "cell_type": "markdown",
      "metadata": {
        "id": "35m5QtbWiB9F"
      },
      "source": [
        "#### Duplicate Values"
      ]
    },
    {
      "cell_type": "code",
      "execution_count": 7,
      "metadata": {
        "id": "1sLdpKYkmox0"
      },
      "outputs": [
        {
          "name": "stdout",
          "output_type": "stream",
          "text": [
            "\n",
            "Number of duplicate rows in Name: 44618\n"
          ]
        }
      ],
      "source": [
        "# Dataset Duplicate Value Count\n",
        "duplicate_count = train.duplicated().sum()\n",
        "print(\"\\nNumber of duplicate rows in Name:\", duplicate_count)"
      ]
    },
    {
      "cell_type": "markdown",
      "metadata": {
        "id": "PoPl-ycgm1ru"
      },
      "source": [
        "#### Missing Values/Null Values"
      ]
    },
    {
      "cell_type": "code",
      "execution_count": 8,
      "metadata": {
        "id": "GgHWkxvamxVg"
      },
      "outputs": [
        {
          "name": "stdout",
          "output_type": "stream",
          "text": [
            "\n",
            "Missing Values Count:\n",
            "TYPE                 0\n",
            "HUNDRED_BLOCK       13\n",
            "NEIGHBOURHOOD    51491\n",
            "X                    0\n",
            "Y                    0\n",
            "Latitude             0\n",
            "Longitude            0\n",
            "HOUR             49365\n",
            "MINUTE           49365\n",
            "YEAR                 0\n",
            "MONTH                0\n",
            "DAY                  0\n",
            "Date                 0\n",
            "dtype: int64\n"
          ]
        }
      ],
      "source": [
        "# Missing Values/Null Values Count\n",
        "missing_values = train.isnull().sum()\n",
        "print(\"\\nMissing Values Count:\")\n",
        "print(missing_values)"
      ]
    },
    {
      "cell_type": "code",
      "execution_count": 9,
      "metadata": {
        "id": "3q5wnI3om9sJ"
      },
      "outputs": [
        {
          "data": {
            "image/png": "[encoded data removed]",
            "text/plain": [
              "<Figure size 1000x600 with 1 Axes>"
            ]
          },
          "metadata": {},
          "output_type": "display_data"
        }
      ],
      "source": [
        "# Visualizing the missing values\n",
        "plt.figure(figsize=(10, 6))\n",
        "sns.heatmap(train.isnull(), cmap='viridis', cbar=False, yticklabels=False)\n",
        "plt.title(\"Missing Values of Name dataset\")\n",
        "plt.show()"
      ]
    },
    {
      "cell_type": "markdown",
      "metadata": {
        "id": "H0kj-8xxnORC"
      },
      "source": [
        "### What did you know about your dataset?"
      ]
    },
    {
      "cell_type": "markdown",
      "metadata": {
        "id": "gfoNAAC-nUe_"
      },
      "source": [
        "Answer Here"
      ]
    },
    {
      "cell_type": "markdown",
      "metadata": {
        "id": "nA9Y7ga8ng1Z"
      },
      "source": [
        "## ***2. Understanding Your Variables***"
      ]
    },
    {
      "cell_type": "code",
      "execution_count": 10,
      "metadata": {
        "id": "j7xfkqrt5Ag5"
      },
      "outputs": [
        {
          "name": "stdout",
          "output_type": "stream",
          "text": [
            "Index(['TYPE', 'HUNDRED_BLOCK', 'NEIGHBOURHOOD', 'X', 'Y', 'Latitude',\n",
            "       'Longitude', 'HOUR', 'MINUTE', 'YEAR', 'MONTH', 'DAY', 'Date'],\n",
            "      dtype='object')\n"
          ]
        }
      ],
      "source": [
        "# Dataset Columns\n",
        "print(train.columns)\n"
      ]
    },
    {
      "cell_type": "code",
      "execution_count": 13,
      "metadata": {
        "id": "DnOaZdaE5Q5t"
      },
      "outputs": [
        {
          "name": "stdout",
          "output_type": "stream",
          "text": [
            "                      TYPE              HUNDRED_BLOCK  \\\n",
            "count               474565                     474552   \n",
            "unique                   9                      20566   \n",
            "top     Theft from Vehicle  OFFSET TO PROTECT PRIVACY   \n",
            "freq                153932                      49365   \n",
            "\n",
            "                    NEIGHBOURHOOD  \n",
            "count                      423074  \n",
            "unique                         24  \n",
            "top     Central Business District  \n",
            "freq                        96171  \n",
            "                   X             Y       Latitude      Longitude  \\\n",
            "count  474565.000000  4.745650e+05  474565.000000  474565.000000   \n",
            "mean   441028.018220  4.889023e+06      44.138029    -110.301025   \n",
            "min         0.000000  0.000000e+00       0.000000    -124.549757   \n",
            "25%    489916.530000  5.453572e+06      49.234871    -123.127383   \n",
            "50%    491477.850000  5.456820e+06      49.264051    -123.107058   \n",
            "75%    493610.190000  5.458622e+06      49.280300    -123.065646   \n",
            "max    511303.000000  5.512579e+06      49.755314       0.000000   \n",
            "std    150295.319332  1.665850e+06      15.039271      37.583147   \n",
            "\n",
            "                HOUR         MINUTE           YEAR          MONTH  \\\n",
            "count  425200.000000  425200.000000  474565.000000  474565.000000   \n",
            "mean       13.721263      16.736047    2004.363632       6.555700   \n",
            "min         0.000000       0.000000    1999.000000       1.000000   \n",
            "25%         9.000000       0.000000    2001.000000       4.000000   \n",
            "50%        15.000000      10.000000    2004.000000       7.000000   \n",
            "75%        19.000000      30.000000    2008.000000       9.000000   \n",
            "max        23.000000      59.000000    2011.000000      12.000000   \n",
            "std         6.785751      18.354675       3.850689       3.408676   \n",
            "\n",
            "                 DAY                           Date  \n",
            "count  474565.000000                         474565  \n",
            "mean       15.439253  2004-11-11 23:51:07.470209792  \n",
            "min         1.000000            1999-01-01 00:00:00  \n",
            "25%         8.000000            2001-06-06 00:00:00  \n",
            "50%        15.000000            2004-05-18 00:00:00  \n",
            "75%        23.000000            2008-03-27 00:00:00  \n",
            "max        31.000000            2011-12-31 00:00:00  \n",
            "std         8.759352                            NaN  \n"
          ]
        }
      ],
      "source": [
        "# Dataset Describe\n",
        "print(train.describe(include=\"object\"))\n",
        "print(train.describe())"
      ]
    },
    {
      "cell_type": "markdown",
      "metadata": {
        "id": "PBTbrJXOngz2"
      },
      "source": [
        "### Variables Description"
      ]
    },
    {
      "cell_type": "markdown",
      "metadata": {
        "id": "aJV4KIxSnxay"
      },
      "source": [
        "TYPE - Category of the crime (e.g., \"Other Theft\").\n",
        "\n",
        "HUNDRED_BLOCK - Street block where the crime occurred.\n",
        "\n",
        "NEIGHBOURHOOD - Neighborhood where the crime took place.\n",
        "\n",
        "X - X-coordinate of the crime location.\n",
        "\n",
        "Y - Y-coordinate of the crime location.\n",
        "\n",
        "Latitude - Latitude of the crime location\n",
        "\n",
        "Longitude - Longitude of the crime location\n",
        "\n",
        "HOUR - Hour of the day when the crime occurred\n",
        "\n",
        "MINUTE - Minute of the hour when the crime occurred\n",
        "\n",
        "YEAR - Year of the crime\n",
        "\n",
        "MONTH - Month of the crime \n",
        "\n",
        "DAY - Day of the month when the crime occurred\n",
        "\n",
        "Date - Full date (YYYY-MM-DD) when the crime occurred"
      ]
    },
    {
      "cell_type": "markdown",
      "metadata": {
        "id": "u3PMJOP6ngxN"
      },
      "source": [
        "### Check Unique Values for each variable."
      ]
    },
    {
      "cell_type": "code",
      "execution_count": 14,
      "metadata": {
        "id": "zms12Yq5n-jE"
      },
      "outputs": [
        {
          "name": "stdout",
          "output_type": "stream",
          "text": [
            "Unique Values in Dataset:\n",
            "TYPE: 9 unique values\n",
            "HUNDRED_BLOCK: 20566 unique values\n",
            "NEIGHBOURHOOD: 24 unique values\n",
            "X: 84225 unique values\n",
            "Y: 82768 unique values\n",
            "Latitude: 89488 unique values\n",
            "Longitude: 87190 unique values\n",
            "HOUR: 24 unique values\n",
            "MINUTE: 60 unique values\n",
            "YEAR: 13 unique values\n",
            "MONTH: 12 unique values\n",
            "DAY: 31 unique values\n",
            "Date: 4748 unique values\n"
          ]
        }
      ],
      "source": [
        "# Check Unique Values for each variable.\n",
        "print(\"Unique Values in Dataset:\") \n",
        "for column in train.columns:\n",
        "    print(f\"{column}: {train[column].nunique()} unique values\")"
      ]
    },
    {
      "cell_type": "markdown",
      "metadata": {
        "id": "dauF4eBmngu3"
      },
      "source": [
        "## 3. ***Data Wrangling***"
      ]
    },
    {
      "cell_type": "markdown",
      "metadata": {
        "id": "bKJF3rekwFvQ"
      },
      "source": [
        "### Data Wrangling Code"
      ]
    },
    {
      "cell_type": "code",
      "execution_count": null,
      "metadata": {
        "id": "wk-9a2fpoLcV"
      },
      "outputs": [],
      "source": [
        "# Write your code to make your dataset analysis ready."
      ]
    },
    {
      "cell_type": "markdown",
      "metadata": {
        "id": "MSa1f5Uengrz"
      },
      "source": [
        "### What all manipulations have you done and insights you found?"
      ]
    },
    {
      "cell_type": "markdown",
      "metadata": {
        "id": "LbyXE7I1olp8"
      },
      "source": [
        "Answer Here."
      ]
    },
    {
      "cell_type": "markdown",
      "metadata": {
        "id": "GF8Ens_Soomf"
      },
      "source": [
        "## ***4. Data Vizualization, Storytelling & Experimenting with charts : Understand the relationships between variables***"
      ]
    },
    {
      "cell_type": "markdown",
      "metadata": {
        "id": "0wOQAZs5pc--"
      },
      "source": [
        "#### Chart - 1"
      ]
    },
    {
      "cell_type": "code",
      "execution_count": null,
      "metadata": {
        "id": "7v_ESjsspbW7"
      },
      "outputs": [],
      "source": [
        "# Chart - 1 visualization code"
      ]
    },
    {
      "cell_type": "markdown",
      "metadata": {
        "id": "K5QZ13OEpz2H"
      },
      "source": [
        "##### 1. Why did you pick the specific chart?"
      ]
    },
    {
      "cell_type": "markdown",
      "metadata": {
        "id": "XESiWehPqBRc"
      },
      "source": [
        "Answer Here."
      ]
    },
    {
      "cell_type": "markdown",
      "metadata": {
        "id": "lQ7QKXXCp7Bj"
      },
      "source": [
        "##### 2. What is/are the insight(s) found from the chart?"
      ]
    },
    {
      "cell_type": "markdown",
      "metadata": {
        "id": "C_j1G7yiqdRP"
      },
      "source": [
        "Answer Here"
      ]
    },
    {
      "cell_type": "markdown",
      "metadata": {
        "id": "448CDAPjqfQr"
      },
      "source": [
        "##### 3. Will the gained insights help creating a positive business impact?\n",
        "Are there any insights that lead to negative growth? Justify with specific reason."
      ]
    },
    {
      "cell_type": "markdown",
      "metadata": {
        "id": "3cspy4FjqxJW"
      },
      "source": [
        "Answer Here"
      ]
    },
    {
      "cell_type": "markdown",
      "metadata": {
        "id": "KSlN3yHqYklG"
      },
      "source": [
        "#### Chart - 2"
      ]
    },
    {
      "cell_type": "code",
      "execution_count": null,
      "metadata": {
        "id": "R4YgtaqtYklH"
      },
      "outputs": [],
      "source": [
        "# Chart - 2 visualization code"
      ]
    },
    {
      "cell_type": "markdown",
      "metadata": {
        "id": "t6dVpIINYklI"
      },
      "source": [
        "##### 1. Why did you pick the specific chart?"
      ]
    },
    {
      "cell_type": "markdown",
      "metadata": {
        "id": "5aaW0BYyYklI"
      },
      "source": [
        "Answer Here."
      ]
    },
    {
      "cell_type": "markdown",
      "metadata": {
        "id": "ijmpgYnKYklI"
      },
      "source": [
        "##### 2. What is/are the insight(s) found from the chart?"
      ]
    },
    {
      "cell_type": "markdown",
      "metadata": {
        "id": "PSx9atu2YklI"
      },
      "source": [
        "Answer Here"
      ]
    },
    {
      "cell_type": "markdown",
      "metadata": {
        "id": "-JiQyfWJYklI"
      },
      "source": [
        "##### 3. Will the gained insights help creating a positive business impact?\n",
        "Are there any insights that lead to negative growth? Justify with specific reason."
      ]
    },
    {
      "cell_type": "markdown",
      "metadata": {
        "id": "BcBbebzrYklV"
      },
      "source": [
        "Answer Here"
      ]
    },
    {
      "cell_type": "markdown",
      "metadata": {
        "id": "EM7whBJCYoAo"
      },
      "source": [
        "#### Chart - 3"
      ]
    },
    {
      "cell_type": "code",
      "execution_count": null,
      "metadata": {
        "id": "t6GMdE67YoAp"
      },
      "outputs": [],
      "source": [
        "# Chart - 3 visualization code"
      ]
    },
    {
      "cell_type": "markdown",
      "metadata": {
        "id": "fge-S5ZAYoAp"
      },
      "source": [
        "##### 1. Why did you pick the specific chart?"
      ]
    },
    {
      "cell_type": "markdown",
      "metadata": {
        "id": "5dBItgRVYoAp"
      },
      "source": [
        "Answer Here."
      ]
    },
    {
      "cell_type": "markdown",
      "metadata": {
        "id": "85gYPyotYoAp"
      },
      "source": [
        "##### 2. What is/are the insight(s) found from the chart?"
      ]
    },
    {
      "cell_type": "markdown",
      "metadata": {
        "id": "4jstXR6OYoAp"
      },
      "source": [
        "Answer Here"
      ]
    },
    {
      "cell_type": "markdown",
      "metadata": {
        "id": "RoGjAbkUYoAp"
      },
      "source": [
        "##### 3. Will the gained insights help creating a positive business impact?\n",
        "Are there any insights that lead to negative growth? Justify with specific reason."
      ]
    },
    {
      "cell_type": "markdown",
      "metadata": {
        "id": "zfJ8IqMcYoAp"
      },
      "source": [
        "Answer Here"
      ]
    },
    {
      "cell_type": "markdown",
      "metadata": {
        "id": "4Of9eVA-YrdM"
      },
      "source": [
        "#### Chart - 4"
      ]
    },
    {
      "cell_type": "code",
      "execution_count": null,
      "metadata": {
        "id": "irlUoxc8YrdO"
      },
      "outputs": [],
      "source": [
        "# Chart - 4 visualization code"
      ]
    },
    {
      "cell_type": "markdown",
      "metadata": {
        "id": "iky9q4vBYrdO"
      },
      "source": [
        "##### 1. Why did you pick the specific chart?"
      ]
    },
    {
      "cell_type": "markdown",
      "metadata": {
        "id": "aJRCwT6DYrdO"
      },
      "source": [
        "Answer Here."
      ]
    },
    {
      "cell_type": "markdown",
      "metadata": {
        "id": "F6T5p64dYrdO"
      },
      "source": [
        "##### 2. What is/are the insight(s) found from the chart?"
      ]
    },
    {
      "cell_type": "markdown",
      "metadata": {
        "id": "Xx8WAJvtYrdO"
      },
      "source": [
        "Answer Here"
      ]
    },
    {
      "cell_type": "markdown",
      "metadata": {
        "id": "y-Ehk30pYrdP"
      },
      "source": [
        "##### 3. Will the gained insights help creating a positive business impact?\n",
        "Are there any insights that lead to negative growth? Justify with specific reason."
      ]
    },
    {
      "cell_type": "markdown",
      "metadata": {
        "id": "jLNxxz7MYrdP"
      },
      "source": [
        "Answer Here"
      ]
    },
    {
      "cell_type": "markdown",
      "metadata": {
        "id": "bamQiAODYuh1"
      },
      "source": [
        "#### Chart - 5"
      ]
    },
    {
      "cell_type": "code",
      "execution_count": null,
      "metadata": {
        "id": "TIJwrbroYuh3"
      },
      "outputs": [],
      "source": [
        "# Chart - 5 visualization code"
      ]
    },
    {
      "cell_type": "markdown",
      "metadata": {
        "id": "QHF8YVU7Yuh3"
      },
      "source": [
        "##### 1. Why did you pick the specific chart?"
      ]
    },
    {
      "cell_type": "markdown",
      "metadata": {
        "id": "dcxuIMRPYuh3"
      },
      "source": [
        "Answer Here."
      ]
    },
    {
      "cell_type": "markdown",
      "metadata": {
        "id": "GwzvFGzlYuh3"
      },
      "source": [
        "##### 2. What is/are the insight(s) found from the chart?"
      ]
    },
    {
      "cell_type": "markdown",
      "metadata": {
        "id": "uyqkiB8YYuh3"
      },
      "source": [
        "Answer Here"
      ]
    },
    {
      "cell_type": "markdown",
      "metadata": {
        "id": "qYpmQ266Yuh3"
      },
      "source": [
        "##### 3. Will the gained insights help creating a positive business impact?\n",
        "Are there any insights that lead to negative growth? Justify with specific reason."
      ]
    },
    {
      "cell_type": "markdown",
      "metadata": {
        "id": "_WtzZ_hCYuh4"
      },
      "source": [
        "Answer Here"
      ]
    },
    {
      "cell_type": "markdown",
      "metadata": {
        "id": "OH-pJp9IphqM"
      },
      "source": [
        "#### Chart - 6"
      ]
    },
    {
      "cell_type": "code",
      "execution_count": null,
      "metadata": {
        "id": "kuRf4wtuphqN"
      },
      "outputs": [],
      "source": [
        "# Chart - 6 visualization code"
      ]
    },
    {
      "cell_type": "markdown",
      "metadata": {
        "id": "bbFf2-_FphqN"
      },
      "source": [
        "##### 1. Why did you pick the specific chart?"
      ]
    },
    {
      "cell_type": "markdown",
      "metadata": {
        "id": "loh7H2nzphqN"
      },
      "source": [
        "Answer Here."
      ]
    },
    {
      "cell_type": "markdown",
      "metadata": {
        "id": "_ouA3fa0phqN"
      },
      "source": [
        "##### 2. What is/are the insight(s) found from the chart?"
      ]
    },
    {
      "cell_type": "markdown",
      "metadata": {
        "id": "VECbqPI7phqN"
      },
      "source": [
        "Answer Here"
      ]
    },
    {
      "cell_type": "markdown",
      "metadata": {
        "id": "Seke61FWphqN"
      },
      "source": [
        "##### 3. Will the gained insights help creating a positive business impact?\n",
        "Are there any insights that lead to negative growth? Justify with specific reason."
      ]
    },
    {
      "cell_type": "markdown",
      "metadata": {
        "id": "DW4_bGpfphqN"
      },
      "source": [
        "Answer Here"
      ]
    },
    {
      "cell_type": "markdown",
      "metadata": {
        "id": "PIIx-8_IphqN"
      },
      "source": [
        "#### Chart - 7"
      ]
    },
    {
      "cell_type": "code",
      "execution_count": null,
      "metadata": {
        "id": "lqAIGUfyphqO"
      },
      "outputs": [],
      "source": [
        "# Chart - 7 visualization code"
      ]
    },
    {
      "cell_type": "markdown",
      "metadata": {
        "id": "t27r6nlMphqO"
      },
      "source": [
        "##### 1. Why did you pick the specific chart?"
      ]
    },
    {
      "cell_type": "markdown",
      "metadata": {
        "id": "iv6ro40sphqO"
      },
      "source": [
        "Answer Here."
      ]
    },
    {
      "cell_type": "markdown",
      "metadata": {
        "id": "r2jJGEOYphqO"
      },
      "source": [
        "##### 2. What is/are the insight(s) found from the chart?"
      ]
    },
    {
      "cell_type": "markdown",
      "metadata": {
        "id": "Po6ZPi4hphqO"
      },
      "source": [
        "Answer Here"
      ]
    },
    {
      "cell_type": "markdown",
      "metadata": {
        "id": "b0JNsNcRphqO"
      },
      "source": [
        "##### 3. Will the gained insights help creating a positive business impact?\n",
        "Are there any insights that lead to negative growth? Justify with specific reason."
      ]
    },
    {
      "cell_type": "markdown",
      "metadata": {
        "id": "xvSq8iUTphqO"
      },
      "source": [
        "Answer Here"
      ]
    },
    {
      "cell_type": "markdown",
      "metadata": {
        "id": "BZR9WyysphqO"
      },
      "source": [
        "#### Chart - 8"
      ]
    },
    {
      "cell_type": "code",
      "execution_count": null,
      "metadata": {
        "id": "TdPTWpAVphqO"
      },
      "outputs": [],
      "source": [
        "# Chart - 8 visualization code"
      ]
    },
    {
      "cell_type": "markdown",
      "metadata": {
        "id": "jj7wYXLtphqO"
      },
      "source": [
        "##### 1. Why did you pick the specific chart?"
      ]
    },
    {
      "cell_type": "markdown",
      "metadata": {
        "id": "Ob8u6rCTphqO"
      },
      "source": [
        "Answer Here."
      ]
    },
    {
      "cell_type": "markdown",
      "metadata": {
        "id": "eZrbJ2SmphqO"
      },
      "source": [
        "##### 2. What is/are the insight(s) found from the chart?"
      ]
    },
    {
      "cell_type": "markdown",
      "metadata": {
        "id": "mZtgC_hjphqO"
      },
      "source": [
        "Answer Here"
      ]
    },
    {
      "cell_type": "markdown",
      "metadata": {
        "id": "rFu4xreNphqO"
      },
      "source": [
        "##### 3. Will the gained insights help creating a positive business impact?\n",
        "Are there any insights that lead to negative growth? Justify with specific reason."
      ]
    },
    {
      "cell_type": "markdown",
      "metadata": {
        "id": "ey_0qi68phqO"
      },
      "source": [
        "Answer Here"
      ]
    },
    {
      "cell_type": "markdown",
      "metadata": {
        "id": "YJ55k-q6phqO"
      },
      "source": [
        "#### Chart - 9"
      ]
    },
    {
      "cell_type": "code",
      "execution_count": null,
      "metadata": {
        "id": "B2aS4O1ophqO"
      },
      "outputs": [],
      "source": [
        "# Chart - 9 visualization code"
      ]
    },
    {
      "cell_type": "markdown",
      "metadata": {
        "id": "gCFgpxoyphqP"
      },
      "source": [
        "##### 1. Why did you pick the specific chart?"
      ]
    },
    {
      "cell_type": "markdown",
      "metadata": {
        "id": "TVxDimi2phqP"
      },
      "source": [
        "Answer Here."
      ]
    },
    {
      "cell_type": "markdown",
      "metadata": {
        "id": "OVtJsKN_phqQ"
      },
      "source": [
        "##### 2. What is/are the insight(s) found from the chart?"
      ]
    },
    {
      "cell_type": "markdown",
      "metadata": {
        "id": "ngGi97qjphqQ"
      },
      "source": [
        "Answer Here"
      ]
    },
    {
      "cell_type": "markdown",
      "metadata": {
        "id": "lssrdh5qphqQ"
      },
      "source": [
        "##### 3. Will the gained insights help creating a positive business impact?\n",
        "Are there any insights that lead to negative growth? Justify with specific reason."
      ]
    },
    {
      "cell_type": "markdown",
      "metadata": {
        "id": "tBpY5ekJphqQ"
      },
      "source": [
        "Answer Here"
      ]
    },
    {
      "cell_type": "markdown",
      "metadata": {
        "id": "U2RJ9gkRphqQ"
      },
      "source": [
        "#### Chart - 10"
      ]
    },
    {
      "cell_type": "code",
      "execution_count": null,
      "metadata": {
        "id": "GM7a4YP4phqQ"
      },
      "outputs": [],
      "source": [
        "# Chart - 10 visualization code"
      ]
    },
    {
      "cell_type": "markdown",
      "metadata": {
        "id": "1M8mcRywphqQ"
      },
      "source": [
        "##### 1. Why did you pick the specific chart?"
      ]
    },
    {
      "cell_type": "markdown",
      "metadata": {
        "id": "8agQvks0phqQ"
      },
      "source": [
        "Answer Here."
      ]
    },
    {
      "cell_type": "markdown",
      "metadata": {
        "id": "tgIPom80phqQ"
      },
      "source": [
        "##### 2. What is/are the insight(s) found from the chart?"
      ]
    },
    {
      "cell_type": "markdown",
      "metadata": {
        "id": "Qp13pnNzphqQ"
      },
      "source": [
        "Answer Here"
      ]
    },
    {
      "cell_type": "markdown",
      "metadata": {
        "id": "JMzcOPDDphqR"
      },
      "source": [
        "##### 3. Will the gained insights help creating a positive business impact?\n",
        "Are there any insights that lead to negative growth? Justify with specific reason."
      ]
    },
    {
      "cell_type": "markdown",
      "metadata": {
        "id": "R4Ka1PC2phqR"
      },
      "source": [
        "Answer Here"
      ]
    },
    {
      "cell_type": "markdown",
      "metadata": {
        "id": "x-EpHcCOp1ci"
      },
      "source": [
        "#### Chart - 11"
      ]
    },
    {
      "cell_type": "code",
      "execution_count": null,
      "metadata": {
        "id": "mAQTIvtqp1cj"
      },
      "outputs": [],
      "source": [
        "# Chart - 11 visualization code"
      ]
    },
    {
      "cell_type": "markdown",
      "metadata": {
        "id": "X_VqEhTip1ck"
      },
      "source": [
        "##### 1. Why did you pick the specific chart?"
      ]
    },
    {
      "cell_type": "markdown",
      "metadata": {
        "id": "-vsMzt_np1ck"
      },
      "source": [
        "Answer Here."
      ]
    },
    {
      "cell_type": "markdown",
      "metadata": {
        "id": "8zGJKyg5p1ck"
      },
      "source": [
        "##### 2. What is/are the insight(s) found from the chart?"
      ]
    },
    {
      "cell_type": "markdown",
      "metadata": {
        "id": "ZYdMsrqVp1ck"
      },
      "source": [
        "Answer Here"
      ]
    },
    {
      "cell_type": "markdown",
      "metadata": {
        "id": "PVzmfK_Ep1ck"
      },
      "source": [
        "##### 3. Will the gained insights help creating a positive business impact?\n",
        "Are there any insights that lead to negative growth? Justify with specific reason."
      ]
    },
    {
      "cell_type": "markdown",
      "metadata": {
        "id": "druuKYZpp1ck"
      },
      "source": [
        "Answer Here"
      ]
    },
    {
      "cell_type": "markdown",
      "metadata": {
        "id": "n3dbpmDWp1ck"
      },
      "source": [
        "#### Chart - 12"
      ]
    },
    {
      "cell_type": "code",
      "execution_count": null,
      "metadata": {
        "id": "bwevp1tKp1ck"
      },
      "outputs": [],
      "source": [
        "# Chart - 12 visualization code"
      ]
    },
    {
      "cell_type": "markdown",
      "metadata": {
        "id": "ylSl6qgtp1ck"
      },
      "source": [
        "##### 1. Why did you pick the specific chart?"
      ]
    },
    {
      "cell_type": "markdown",
      "metadata": {
        "id": "m2xqNkiQp1ck"
      },
      "source": [
        "Answer Here."
      ]
    },
    {
      "cell_type": "markdown",
      "metadata": {
        "id": "ZWILFDl5p1ck"
      },
      "source": [
        "##### 2. What is/are the insight(s) found from the chart?"
      ]
    },
    {
      "cell_type": "markdown",
      "metadata": {
        "id": "x-lUsV2mp1ck"
      },
      "source": [
        "Answer Here"
      ]
    },
    {
      "cell_type": "markdown",
      "metadata": {
        "id": "M7G43BXep1ck"
      },
      "source": [
        "##### 3. Will the gained insights help creating a positive business impact?\n",
        "Are there any insights that lead to negative growth? Justify with specific reason."
      ]
    },
    {
      "cell_type": "markdown",
      "metadata": {
        "id": "5wwDJXsLp1cl"
      },
      "source": [
        "Answer Here"
      ]
    },
    {
      "cell_type": "markdown",
      "metadata": {
        "id": "Ag9LCva-p1cl"
      },
      "source": [
        "#### Chart - 13"
      ]
    },
    {
      "cell_type": "code",
      "execution_count": null,
      "metadata": {
        "id": "EUfxeq9-p1cl"
      },
      "outputs": [],
      "source": [
        "# Chart - 13 visualization code"
      ]
    },
    {
      "cell_type": "markdown",
      "metadata": {
        "id": "E6MkPsBcp1cl"
      },
      "source": [
        "##### 1. Why did you pick the specific chart?"
      ]
    },
    {
      "cell_type": "markdown",
      "metadata": {
        "id": "V22bRsFWp1cl"
      },
      "source": [
        "Answer Here."
      ]
    },
    {
      "cell_type": "markdown",
      "metadata": {
        "id": "2cELzS2fp1cl"
      },
      "source": [
        "##### 2. What is/are the insight(s) found from the chart?"
      ]
    },
    {
      "cell_type": "markdown",
      "metadata": {
        "id": "ozQPc2_Ip1cl"
      },
      "source": [
        "Answer Here"
      ]
    },
    {
      "cell_type": "markdown",
      "metadata": {
        "id": "3MPXvC8up1cl"
      },
      "source": [
        "##### 3. Will the gained insights help creating a positive business impact?\n",
        "Are there any insights that lead to negative growth? Justify with specific reason."
      ]
    },
    {
      "cell_type": "markdown",
      "metadata": {
        "id": "GL8l1tdLp1cl"
      },
      "source": [
        "Answer Here"
      ]
    },
    {
      "cell_type": "markdown",
      "metadata": {
        "id": "NC_X3p0fY2L0"
      },
      "source": [
        "#### Chart - 14 - Correlation Heatmap"
      ]
    },
    {
      "cell_type": "code",
      "execution_count": null,
      "metadata": {
        "id": "xyC9zolEZNRQ"
      },
      "outputs": [],
      "source": [
        "# Correlation Heatmap visualization code"
      ]
    },
    {
      "cell_type": "markdown",
      "metadata": {
        "id": "UV0SzAkaZNRQ"
      },
      "source": [
        "##### 1. Why did you pick the specific chart?"
      ]
    },
    {
      "cell_type": "markdown",
      "metadata": {
        "id": "DVPuT8LYZNRQ"
      },
      "source": [
        "Answer Here."
      ]
    },
    {
      "cell_type": "markdown",
      "metadata": {
        "id": "YPEH6qLeZNRQ"
      },
      "source": [
        "##### 2. What is/are the insight(s) found from the chart?"
      ]
    },
    {
      "cell_type": "markdown",
      "metadata": {
        "id": "bfSqtnDqZNRR"
      },
      "source": [
        "Answer Here"
      ]
    },
    {
      "cell_type": "markdown",
      "metadata": {
        "id": "q29F0dvdveiT"
      },
      "source": [
        "#### Chart - 15 - Pair Plot"
      ]
    },
    {
      "cell_type": "code",
      "execution_count": null,
      "metadata": {
        "id": "o58-TEIhveiU"
      },
      "outputs": [],
      "source": [
        "# Pair Plot visualization code"
      ]
    },
    {
      "cell_type": "markdown",
      "metadata": {
        "id": "EXh0U9oCveiU"
      },
      "source": [
        "##### 1. Why did you pick the specific chart?"
      ]
    },
    {
      "cell_type": "markdown",
      "metadata": {
        "id": "eMmPjTByveiU"
      },
      "source": [
        "Answer Here."
      ]
    },
    {
      "cell_type": "markdown",
      "metadata": {
        "id": "22aHeOlLveiV"
      },
      "source": [
        "##### 2. What is/are the insight(s) found from the chart?"
      ]
    },
    {
      "cell_type": "markdown",
      "metadata": {
        "id": "uPQ8RGwHveiV"
      },
      "source": [
        "Answer Here"
      ]
    },
    {
      "cell_type": "markdown",
      "metadata": {
        "id": "g-ATYxFrGrvw"
      },
      "source": [
        "## ***5. Hypothesis Testing***"
      ]
    },
    {
      "cell_type": "markdown",
      "metadata": {
        "id": "Yfr_Vlr8HBkt"
      },
      "source": [
        "### Based on your chart experiments, define three hypothetical statements from the dataset. In the next three questions, perform hypothesis testing to obtain final conclusion about the statements through your code and statistical testing."
      ]
    },
    {
      "cell_type": "markdown",
      "metadata": {
        "id": "-7MS06SUHkB-"
      },
      "source": [
        "Answer Here."
      ]
    },
    {
      "cell_type": "markdown",
      "metadata": {
        "id": "8yEUt7NnHlrM"
      },
      "source": [
        "### Hypothetical Statement - 1"
      ]
    },
    {
      "cell_type": "markdown",
      "metadata": {
        "id": "tEA2Xm5dHt1r"
      },
      "source": [
        "#### 1. State Your research hypothesis as a null hypothesis and alternate hypothesis."
      ]
    },
    {
      "cell_type": "markdown",
      "metadata": {
        "id": "HI9ZP0laH0D-"
      },
      "source": [
        "Answer Here."
      ]
    },
    {
      "cell_type": "markdown",
      "metadata": {
        "id": "I79__PHVH19G"
      },
      "source": [
        "#### 2. Perform an appropriate statistical test."
      ]
    },
    {
      "cell_type": "code",
      "execution_count": null,
      "metadata": {
        "id": "oZrfquKtyian"
      },
      "outputs": [],
      "source": [
        "# Perform Statistical Test to obtain P-Value"
      ]
    },
    {
      "cell_type": "markdown",
      "metadata": {
        "id": "Ou-I18pAyIpj"
      },
      "source": [
        "##### Which statistical test have you done to obtain P-Value?"
      ]
    },
    {
      "cell_type": "markdown",
      "metadata": {
        "id": "s2U0kk00ygSB"
      },
      "source": [
        "Answer Here."
      ]
    },
    {
      "cell_type": "markdown",
      "metadata": {
        "id": "fF3858GYyt-u"
      },
      "source": [
        "##### Why did you choose the specific statistical test?"
      ]
    },
    {
      "cell_type": "markdown",
      "metadata": {
        "id": "HO4K0gP5y3B4"
      },
      "source": [
        "Answer Here."
      ]
    },
    {
      "cell_type": "markdown",
      "metadata": {
        "id": "4_0_7-oCpUZd"
      },
      "source": [
        "### Hypothetical Statement - 2"
      ]
    },
    {
      "cell_type": "markdown",
      "metadata": {
        "id": "hwyV_J3ipUZe"
      },
      "source": [
        "#### 1. State Your research hypothesis as a null hypothesis and alternate hypothesis."
      ]
    },
    {
      "cell_type": "markdown",
      "metadata": {
        "id": "FnpLGJ-4pUZe"
      },
      "source": [
        "Answer Here."
      ]
    },
    {
      "cell_type": "markdown",
      "metadata": {
        "id": "3yB-zSqbpUZe"
      },
      "source": [
        "#### 2. Perform an appropriate statistical test."
      ]
    },
    {
      "cell_type": "code",
      "execution_count": null,
      "metadata": {
        "id": "sWxdNTXNpUZe"
      },
      "outputs": [],
      "source": [
        "# Perform Statistical Test to obtain P-Value"
      ]
    },
    {
      "cell_type": "markdown",
      "metadata": {
        "id": "dEUvejAfpUZe"
      },
      "source": [
        "##### Which statistical test have you done to obtain P-Value?"
      ]
    },
    {
      "cell_type": "markdown",
      "metadata": {
        "id": "oLDrPz7HpUZf"
      },
      "source": [
        "Answer Here."
      ]
    },
    {
      "cell_type": "markdown",
      "metadata": {
        "id": "Fd15vwWVpUZf"
      },
      "source": [
        "##### Why did you choose the specific statistical test?"
      ]
    },
    {
      "cell_type": "markdown",
      "metadata": {
        "id": "4xOGYyiBpUZf"
      },
      "source": [
        "Answer Here."
      ]
    },
    {
      "cell_type": "markdown",
      "metadata": {
        "id": "bn_IUdTipZyH"
      },
      "source": [
        "### Hypothetical Statement - 3"
      ]
    },
    {
      "cell_type": "markdown",
      "metadata": {
        "id": "49K5P_iCpZyH"
      },
      "source": [
        "#### 1. State Your research hypothesis as a null hypothesis and alternate hypothesis."
      ]
    },
    {
      "cell_type": "markdown",
      "metadata": {
        "id": "7gWI5rT9pZyH"
      },
      "source": [
        "Answer Here."
      ]
    },
    {
      "cell_type": "markdown",
      "metadata": {
        "id": "Nff-vKELpZyI"
      },
      "source": [
        "#### 2. Perform an appropriate statistical test."
      ]
    },
    {
      "cell_type": "code",
      "execution_count": null,
      "metadata": {
        "id": "s6AnJQjtpZyI"
      },
      "outputs": [],
      "source": [
        "# Perform Statistical Test to obtain P-Value"
      ]
    },
    {
      "cell_type": "markdown",
      "metadata": {
        "id": "kLW572S8pZyI"
      },
      "source": [
        "##### Which statistical test have you done to obtain P-Value?"
      ]
    },
    {
      "cell_type": "markdown",
      "metadata": {
        "id": "ytWJ8v15pZyI"
      },
      "source": [
        "Answer Here."
      ]
    },
    {
      "cell_type": "markdown",
      "metadata": {
        "id": "dWbDXHzopZyI"
      },
      "source": [
        "##### Why did you choose the specific statistical test?"
      ]
    },
    {
      "cell_type": "markdown",
      "metadata": {
        "id": "M99G98V6pZyI"
      },
      "source": [
        "Answer Here."
      ]
    },
    {
      "cell_type": "markdown",
      "metadata": {
        "id": "yLjJCtPM0KBk"
      },
      "source": [
        "## ***6. Feature Engineering & Data Pre-processing***"
      ]
    },
    {
      "cell_type": "markdown",
      "metadata": {
        "id": "xiyOF9F70UgQ"
      },
      "source": [
        "### 1. Handling Missing Values"
      ]
    },
    {
      "cell_type": "code",
      "execution_count": 15,
      "metadata": {
        "id": "iRsAHk1K0fpS"
      },
      "outputs": [
        {
          "name": "stdout",
          "output_type": "stream",
          "text": [
            "TYPE                 0\n",
            "HUNDRED_BLOCK       13\n",
            "NEIGHBOURHOOD    51491\n",
            "X                    0\n",
            "Y                    0\n",
            "Latitude             0\n",
            "Longitude            0\n",
            "HOUR             49365\n",
            "MINUTE           49365\n",
            "YEAR                 0\n",
            "MONTH                0\n",
            "DAY                  0\n",
            "Date                 0\n",
            "dtype: int64\n"
          ]
        }
      ],
      "source": [
        "# Handling Missing Values & Missing Value Imputation\n",
        "print(train.isnull().sum())\n"
      ]
    },
    {
      "cell_type": "code",
      "execution_count": 16,
      "metadata": {},
      "outputs": [
        {
          "name": "stderr",
          "output_type": "stream",
          "text": [
            "/var/folders/2t/cl30nst95hn812xhbn9z8r280000gn/T/ipykernel_22227/884687560.py:3: FutureWarning: A value is trying to be set on a copy of a DataFrame or Series through chained assignment using an inplace method.\n",
            "The behavior will change in pandas 3.0. This inplace method will never work because the intermediate object on which we are setting values always behaves as a copy.\n",
            "\n",
            "For example, when doing 'df[col].method(value, inplace=True)', try using 'df.method({col: value}, inplace=True)' or df[col] = df[col].method(value) instead, to perform the operation inplace on the original object.\n",
            "\n",
            "\n",
            "  train['HUNDRED_BLOCK'].fillna(train['HUNDRED_BLOCK'].mode()[0], inplace=True)\n"
          ]
        }
      ],
      "source": [
        "#Mode Imputation (Most Frequent Value) if the number of unique blocks is limited.\n",
        "\n",
        "train['HUNDRED_BLOCK'].fillna(train['HUNDRED_BLOCK'].mode()[0], inplace=True)"
      ]
    },
    {
      "cell_type": "code",
      "execution_count": 19,
      "metadata": {},
      "outputs": [],
      "source": [
        "train['HOUR'] = train['Date'].dt.hour.fillna(train['HOUR'].mode()[0])\n",
        "train['MINUTE'] = train['Date'].dt.minute.fillna(train['MINUTE'].mode()[0])"
      ]
    },
    {
      "cell_type": "code",
      "execution_count": 31,
      "metadata": {},
      "outputs": [
        {
          "name": "stdout",
          "output_type": "stream",
          "text": [
            "0\n"
          ]
        },
        {
          "name": "stderr",
          "output_type": "stream",
          "text": [
            "/var/folders/2t/cl30nst95hn812xhbn9z8r280000gn/T/ipykernel_22227/2650909353.py:3: FutureWarning: A value is trying to be set on a copy of a DataFrame or Series through chained assignment using an inplace method.\n",
            "The behavior will change in pandas 3.0. This inplace method will never work because the intermediate object on which we are setting values always behaves as a copy.\n",
            "\n",
            "For example, when doing 'df[col].method(value, inplace=True)', try using 'df.method({col: value}, inplace=True)' or df[col] = df[col].method(value) instead, to perform the operation inplace on the original object.\n",
            "\n",
            "\n",
            "  train['NEIGHBOURHOOD'].fillna(most_frequent, inplace=True)\n"
          ]
        }
      ],
      "source": [
        "# Impute missing NEIGHBOURHOOD with the most frequent value\n",
        "most_frequent = train['NEIGHBOURHOOD'].mode()[0]\n",
        "train['NEIGHBOURHOOD'].fillna(most_frequent, inplace=True)\n",
        "\n",
        "print(train['NEIGHBOURHOOD'].isnull().sum())  # Should print 0\n"
      ]
    },
    {
      "cell_type": "code",
      "execution_count": 32,
      "metadata": {},
      "outputs": [],
      "source": [
        "train.to_csv('cleaned_train.csv', index=False)\n"
      ]
    },
    {
      "cell_type": "code",
      "execution_count": 33,
      "metadata": {},
      "outputs": [],
      "source": [
        "train_cleaned=pd.read_csv(\"/Users/milansolanki/Desktop/ML internship/project5/cleaned_train.csv\")"
      ]
    },
    {
      "cell_type": "code",
      "execution_count": 34,
      "metadata": {},
      "outputs": [
        {
          "name": "stdout",
          "output_type": "stream",
          "text": [
            "TYPE             0\n",
            "HUNDRED_BLOCK    0\n",
            "NEIGHBOURHOOD    0\n",
            "X                0\n",
            "Y                0\n",
            "Latitude         0\n",
            "Longitude        0\n",
            "HOUR             0\n",
            "MINUTE           0\n",
            "YEAR             0\n",
            "MONTH            0\n",
            "DAY              0\n",
            "Date             0\n",
            "dtype: int64\n"
          ]
        }
      ],
      "source": [
        "print(train.isnull().sum())\n"
      ]
    },
    {
      "cell_type": "markdown",
      "metadata": {
        "id": "7wuGOrhz0itI"
      },
      "source": [
        "#### What all missing value imputation techniques have you used and why did you use those techniques?"
      ]
    },
    {
      "cell_type": "markdown",
      "metadata": {
        "id": "1ixusLtI0pqI"
      },
      "source": [
        "HUNDERED_BLOCk - Mode Imputation (Most Frequent Value) if the number of unique blocks is limited.\n",
        "\n",
        "Neighborhood - Impute Using the Most Frequent Value\n",
        "\n",
        "timestamp is available, extract these values."
      ]
    },
    {
      "cell_type": "markdown",
      "metadata": {
        "id": "id1riN9m0vUs"
      },
      "source": [
        "### 2. Handling Outliers"
      ]
    },
    {
      "cell_type": "code",
      "execution_count": 35,
      "metadata": {
        "id": "M6w2CzZf04JK"
      },
      "outputs": [
        {
          "name": "stdout",
          "output_type": "stream",
          "text": [
            "Outliers in X: 49631\n",
            "Outliers in Y: 49368\n",
            "Outliers in Latitude: 49368\n",
            "Outliers in Longitude: 49392\n",
            "Outliers in HOUR: 0\n",
            "Outliers in MINUTE: 0\n"
          ]
        }
      ],
      "source": [
        "# Handling Outliers & Outlier treatments\n",
        "import numpy as np\n",
        "\n",
        "# Function to detect outliers using IQR\n",
        "def detect_outliers(df, column):\n",
        "    Q1 = df[column].quantile(0.25)  # First quartile (25%)\n",
        "    Q3 = df[column].quantile(0.75)  # Third quartile (75%)\n",
        "    IQR = Q3 - Q1\n",
        "    lower_bound = Q1 - 1.5 * IQR\n",
        "    upper_bound = Q3 + 1.5 * IQR\n",
        "\n",
        "    outliers = df[(df[column] < lower_bound) | (df[column] > upper_bound)]\n",
        "    print(f\"Outliers in {column}: {len(outliers)}\")\n",
        "    return outliers\n",
        "\n",
        "# Check for outliers in key columns\n",
        "for col in ['X', 'Y', 'Latitude', 'Longitude', 'HOUR', 'MINUTE']:\n",
        "    detect_outliers(train, col)\n"
      ]
    },
    {
      "cell_type": "code",
      "execution_count": 59,
      "metadata": {},
      "outputs": [
        {
          "name": "stdout",
          "output_type": "stream",
          "text": [
            "Total invalid rows: 49368\n"
          ]
        }
      ],
      "source": [
        "# Flag invalid rows\n",
        "invalid_geo = train[(train['X'] == 0) | (train['Y'] == 0) |\n",
        "                    (train['Latitude'] < 49.0) | (train['Latitude'] > 49.3) |\n",
        "                    (train['Longitude'] < -123.2) | (train['Longitude'] > -123.0)]\n",
        "\n",
        "print(f\"Total invalid rows: {invalid_geo.shape[0]}\")\n"
      ]
    },
    {
      "cell_type": "code",
      "execution_count": 60,
      "metadata": {},
      "outputs": [],
      "source": [
        "from sklearn.impute import KNNImputer\n",
        "\n",
        "# Initialize KNN Imputer\n",
        "imputer = KNNImputer(n_neighbors=5)\n",
        "\n",
        "# Impute only geographic columns\n",
        "train[['X', 'Y', 'Latitude', 'Longitude']] = imputer.fit_transform(train[['X', 'Y', 'Latitude', 'Longitude']])\n"
      ]
    },
    {
      "cell_type": "code",
      "execution_count": 61,
      "metadata": {},
      "outputs": [
        {
          "name": "stdout",
          "output_type": "stream",
          "text": [
            "Data after cleaning: (425197, 13)\n"
          ]
        }
      ],
      "source": [
        "# Drop rows with invalid geographic values\n",
        "train = train[(train['Latitude'] >= 49.0) & (train['Latitude'] <= 49.3) &\n",
        "              (train['Longitude'] >= -123.2) & (train['Longitude'] <= -123.0)]\n",
        "\n",
        "print(f\"Data after cleaning: {train.shape}\")\n"
      ]
    },
    {
      "cell_type": "code",
      "execution_count": 64,
      "metadata": {},
      "outputs": [
        {
          "name": "stdout",
          "output_type": "stream",
          "text": [
            "Outliers in X: 2386\n",
            "Outliers in Y: 1\n",
            "Outliers in Latitude: 1\n",
            "Outliers in Longitude: 0\n",
            "Outliers in HOUR: 0\n",
            "Outliers in MINUTE: 0\n"
          ]
        }
      ],
      "source": [
        "# Check for outliers in key columns\n",
        "for col in ['X', 'Y', 'Latitude', 'Longitude', 'HOUR', 'MINUTE']:\n",
        "    detect_outliers(train, col)"
      ]
    },
    {
      "cell_type": "code",
      "execution_count": 65,
      "metadata": {},
      "outputs": [
        {
          "name": "stdout",
          "output_type": "stream",
          "text": [
            "                                                     TYPE  \\\n",
            "6                       Break and Enter Residential/Other   \n",
            "7                                                Mischief   \n",
            "11                                               Mischief   \n",
            "14                      Break and Enter Residential/Other   \n",
            "24                                               Mischief   \n",
            "...                                                   ...   \n",
            "474556                                 Theft from Vehicle   \n",
            "474557                                 Theft from Vehicle   \n",
            "474558                                 Theft from Vehicle   \n",
            "474559  Vehicle Collision or Pedestrian Struck (with I...   \n",
            "474564                                           Mischief   \n",
            "\n",
            "                  HUNDRED_BLOCK      NEIGHBOURHOOD          X           Y  \\\n",
            "6             63XX WILTSHIRE ST         Kerrisdale  489325.58  5452817.95   \n",
            "7               40XX W 19TH AVE  Dunbar-Southlands  485903.09  5455883.77   \n",
            "11              40XX W 21ST AVE  Dunbar-Southlands  485852.96  5455684.11   \n",
            "14              63XX WINDSOR ST             Sunset  493790.48  5452630.90   \n",
            "24              40XX W 27TH AVE  Dunbar-Southlands  485822.32  5455051.83   \n",
            "...                         ...                ...        ...         ...   \n",
            "474556        20XX CORNWALL AVE          Kitsilano  488948.78  5457759.91   \n",
            "474557        20XX CORNWALL AVE          Kitsilano  488948.78  5457759.91   \n",
            "474558        20XX CORNWALL AVE          Kitsilano  488948.78  5457759.91   \n",
            "474559  YUKON ST / SW MARINE DR            Marpole  491644.00  5450916.00   \n",
            "474564             57XX MAIN ST             Sunset  492605.32  5453354.38   \n",
            "\n",
            "         Latitude   Longitude  HOUR  MINUTE  YEAR  MONTH  DAY       Date  \n",
            "6       49.228051 -123.146610     0       0  1999      3   10 1999-03-10  \n",
            "7       49.255559 -123.193611     0       0  1999      6   28 1999-06-28  \n",
            "11      49.253762 -123.193611     0       0  1999      9   27 1999-09-27  \n",
            "14      49.226430 -123.085283     0       0  1999     11    5 1999-11-05  \n",
            "24      49.248074 -123.193611     0       0  1999      1   23 1999-01-23  \n",
            "...           ...         ...   ...     ...   ...    ...  ...        ...  \n",
            "474556  49.272498 -123.151922     0       0  2011      2   14 2011-02-14  \n",
            "474557  49.272498 -123.151922     0       0  2011      2   14 2011-02-14  \n",
            "474558  49.272498 -123.151922     0       0  2011      2   18 2011-02-18  \n",
            "474559  49.210978 -123.114728     0       0  2011     12   22 2011-12-22  \n",
            "474564  49.232924 -123.101574     0       0  2011      2    3 2011-02-03  \n",
            "\n",
            "[130174 rows x 13 columns]\n"
          ]
        }
      ],
      "source": [
        "# Display outliers in the geographic columns\n",
        "outliers = train[(train['X'] < 489916) | (train['X'] > 498072) |\n",
        "                 (train['Y'] < 5453572) | (train['Y'] > 5459980) |\n",
        "                 (train['Latitude'] < 49.0) | (train['Latitude'] > 49.3) |\n",
        "                 (train['Longitude'] < -123.2) | (train['Longitude'] > -123.0)]\n",
        "\n",
        "print(outliers)\n"
      ]
    },
    {
      "cell_type": "code",
      "execution_count": 68,
      "metadata": {},
      "outputs": [],
      "source": [
        "from sklearn.impute import KNNImputer\n",
        "\n",
        "# Initialize and apply KNN Imputer for spatial columns\n",
        "imputer = KNNImputer(n_neighbors=5)\n",
        "train[['X', 'Y', 'Latitude', 'Longitude']] = imputer.fit_transform(train[['X', 'Y', 'Latitude', 'Longitude']])\n"
      ]
    },
    {
      "cell_type": "code",
      "execution_count": 69,
      "metadata": {},
      "outputs": [
        {
          "name": "stdout",
          "output_type": "stream",
          "text": [
            "Shape after removing outliers: (295023, 13)\n"
          ]
        }
      ],
      "source": [
        "# Drop remaining outliers\n",
        "train = train[(train['X'] >= 489916) & (train['X'] <= 498072) &\n",
        "              (train['Y'] >= 5453572) & (train['Y'] <= 5459980) &\n",
        "              (train['Latitude'] >= 49.0) & (train['Latitude'] <= 49.3) &\n",
        "              (train['Longitude'] >= -123.2) & (train['Longitude'] <= -123.0)]\n",
        "\n",
        "print(f\"Shape after removing outliers: {train.shape}\")\n"
      ]
    },
    {
      "cell_type": "code",
      "execution_count": 70,
      "metadata": {},
      "outputs": [
        {
          "name": "stdout",
          "output_type": "stream",
          "text": [
            "Outliers in X: 0\n",
            "Outliers in Y: 0\n",
            "Outliers in Latitude: 0\n",
            "Outliers in Longitude: 0\n"
          ]
        }
      ],
      "source": [
        "# Recheck outlier counts\n",
        "for col in ['X', 'Y', 'Latitude', 'Longitude']:\n",
        "    Q1 = train[col].quantile(0.25)\n",
        "    Q3 = train[col].quantile(0.75)\n",
        "    IQR = Q3 - Q1\n",
        "    lower_bound = Q1 - 1.5 * IQR\n",
        "    upper_bound = Q3 + 1.5 * IQR\n",
        "    outliers = ((train[col] < lower_bound) | (train[col] > upper_bound)).sum()\n",
        "    print(f\"Outliers in {col}: {outliers}\")\n"
      ]
    },
    {
      "cell_type": "markdown",
      "metadata": {},
      "source": [
        "##### What all outlier treatment techniques have you used and why did you use those techniques?"
      ]
    },
    {
      "cell_type": "markdown",
      "metadata": {},
      "source": [
        "KNN Imputer for spatial columns\n",
        "\n",
        "Drop remaining outliers\n"
      ]
    },
    {
      "cell_type": "markdown",
      "metadata": {
        "id": "89xtkJwZ18nB"
      },
      "source": [
        "### 3. Categorical Encoding"
      ]
    },
    {
      "cell_type": "code",
      "execution_count": 71,
      "metadata": {
        "id": "21JmIYMG2hEo"
      },
      "outputs": [
        {
          "name": "stdout",
          "output_type": "stream",
          "text": [
            "Categorical Columns: Index(['TYPE', 'HUNDRED_BLOCK', 'NEIGHBOURHOOD'], dtype='object')\n"
          ]
        }
      ],
      "source": [
        "# Encode your categorical columns\n",
        "# Identify categorical columns\n",
        "categorical_cols = train.select_dtypes(include='object').columns\n",
        "print(\"Categorical Columns:\", categorical_cols)\n"
      ]
    },
    {
      "cell_type": "code",
      "execution_count": 72,
      "metadata": {},
      "outputs": [
        {
          "name": "stdout",
          "output_type": "stream",
          "text": [
            "Encoded Data Shape: (295023, 10864)\n"
          ]
        }
      ],
      "source": [
        "# Apply one-hot encoding\n",
        "train_encoded = pd.get_dummies(train, columns=['TYPE', 'NEIGHBOURHOOD', 'HUNDRED_BLOCK'], drop_first=True)\n",
        "\n",
        "print(\"Encoded Data Shape:\", train_encoded.shape)\n"
      ]
    },
    {
      "cell_type": "code",
      "execution_count": 73,
      "metadata": {},
      "outputs": [
        {
          "name": "stdout",
          "output_type": "stream",
          "text": [
            "          X           Y   Latitude   Longitude  HOUR  MINUTE  YEAR  MONTH  \\\n",
            "0  493906.5  5457452.47  49.269802 -123.083763     0       0  1999      5   \n",
            "1  493906.5  5457452.47  49.269802 -123.083763     0       0  1999      5   \n",
            "2  493906.5  5457452.47  49.269802 -123.083763     0       0  1999      4   \n",
            "3  493906.5  5457452.47  49.269802 -123.083763     0       0  1999      4   \n",
            "4  493906.5  5457452.47  49.269802 -123.083763     0       0  1999      4   \n",
            "\n",
            "   DAY       Date  ...  HUNDRED_BLOCK_YUKON ST / W 10TH AVE  \\\n",
            "0   12 1999-05-12  ...                                False   \n",
            "1    7 1999-05-07  ...                                False   \n",
            "2   23 1999-04-23  ...                                False   \n",
            "3   20 1999-04-20  ...                                False   \n",
            "4   12 1999-04-12  ...                                False   \n",
            "\n",
            "   HUNDRED_BLOCK_YUKON ST / W 12TH AVE  HUNDRED_BLOCK_YUKON ST / W 14TH AVE  \\\n",
            "0                                False                                False   \n",
            "1                                False                                False   \n",
            "2                                False                                False   \n",
            "3                                False                                False   \n",
            "4                                False                                False   \n",
            "\n",
            "   HUNDRED_BLOCK_YUKON ST / W 16TH AVE  HUNDRED_BLOCK_YUKON ST / W 17TH AVE  \\\n",
            "0                                False                                False   \n",
            "1                                False                                False   \n",
            "2                                False                                False   \n",
            "3                                False                                False   \n",
            "4                                False                                False   \n",
            "\n",
            "   HUNDRED_BLOCK_YUKON ST / W 2ND AVE  HUNDRED_BLOCK_YUKON ST / W 5TH AVE  \\\n",
            "0                               False                               False   \n",
            "1                               False                               False   \n",
            "2                               False                               False   \n",
            "3                               False                               False   \n",
            "4                               False                               False   \n",
            "\n",
            "   HUNDRED_BLOCK_YUKON ST / W 6TH AVE  \\\n",
            "0                               False   \n",
            "1                               False   \n",
            "2                               False   \n",
            "3                               False   \n",
            "4                               False   \n",
            "\n",
            "   HUNDRED_BLOCK_YUKON ST / W BROADWAY AVE  \\\n",
            "0                                    False   \n",
            "1                                    False   \n",
            "2                                    False   \n",
            "3                                    False   \n",
            "4                                    False   \n",
            "\n",
            "   HUNDRED_BLOCK_YUKON ST / W KING EDWARD AVE  \n",
            "0                                       False  \n",
            "1                                       False  \n",
            "2                                       False  \n",
            "3                                       False  \n",
            "4                                       False  \n",
            "\n",
            "[5 rows x 10864 columns]\n"
          ]
        }
      ],
      "source": [
        "print(train_encoded.head())"
      ]
    },
    {
      "cell_type": "code",
      "execution_count": null,
      "metadata": {},
      "outputs": [],
      "source": []
    },
    {
      "cell_type": "markdown",
      "metadata": {
        "id": "67NQN5KX2AMe"
      },
      "source": [
        "#### What all categorical encoding techniques have you used & why did you use those techniques?"
      ]
    },
    {
      "cell_type": "markdown",
      "metadata": {
        "id": "UDaue5h32n_G"
      },
      "source": [
        "One-hot Encoding to categorical columns TYPE,HUNDRED_BLOCK,NEIGHBOURHOOD "
      ]
    },
    {
      "cell_type": "markdown",
      "metadata": {
        "id": "Iwf50b-R2tYG"
      },
      "source": [
        "### 4. Textual Data Preprocessing\n",
        "(It's mandatory for textual dataset i.e., NLP, Sentiment Analysis, Text Clustering etc.)"
      ]
    },
    {
      "cell_type": "code",
      "execution_count": 74,
      "metadata": {},
      "outputs": [],
      "source": [
        "# Standardize text columns to lowercase and strip spaces\n",
        "text_cols = ['TYPE', 'HUNDRED_BLOCK', 'NEIGHBOURHOOD']\n",
        "\n",
        "for col in text_cols:\n",
        "    train[col] = train[col].str.lower().str.strip()\n"
      ]
    },
    {
      "cell_type": "markdown",
      "metadata": {
        "id": "GMQiZwjn3iu7"
      },
      "source": [
        "#### 1. Expand Contraction"
      ]
    },
    {
      "cell_type": "code",
      "execution_count": null,
      "metadata": {
        "id": "PTouz10C3oNN"
      },
      "outputs": [],
      "source": [
        "# Expand Contraction"
      ]
    },
    {
      "cell_type": "markdown",
      "metadata": {
        "id": "WVIkgGqN3qsr"
      },
      "source": [
        "#### 2. Lower Casing"
      ]
    },
    {
      "cell_type": "code",
      "execution_count": null,
      "metadata": {
        "id": "88JnJ1jN3w7j"
      },
      "outputs": [],
      "source": [
        "# Lower Casing"
      ]
    },
    {
      "cell_type": "markdown",
      "metadata": {
        "id": "XkPnILGE3zoT"
      },
      "source": [
        "#### 3. Removing Punctuations"
      ]
    },
    {
      "cell_type": "code",
      "execution_count": null,
      "metadata": {
        "id": "vqbBqNaA33c0"
      },
      "outputs": [],
      "source": [
        "# Remove Punctuations"
      ]
    },
    {
      "cell_type": "markdown",
      "metadata": {
        "id": "Hlsf0x5436Go"
      },
      "source": [
        "#### 4. Removing URLs & Removing words and digits contain digits."
      ]
    },
    {
      "cell_type": "code",
      "execution_count": null,
      "metadata": {
        "id": "2sxKgKxu4Ip3"
      },
      "outputs": [],
      "source": [
        "# Remove URLs & Remove words and digits contain digits"
      ]
    },
    {
      "cell_type": "markdown",
      "metadata": {
        "id": "mT9DMSJo4nBL"
      },
      "source": [
        "#### 5. Removing Stopwords & Removing White spaces"
      ]
    },
    {
      "cell_type": "code",
      "execution_count": null,
      "metadata": {
        "id": "T2LSJh154s8W"
      },
      "outputs": [],
      "source": [
        "# Remove Stopwords"
      ]
    },
    {
      "cell_type": "code",
      "execution_count": null,
      "metadata": {
        "id": "EgLJGffy4vm0"
      },
      "outputs": [],
      "source": [
        "# Remove White spaces"
      ]
    },
    {
      "cell_type": "markdown",
      "metadata": {
        "id": "c49ITxTc407N"
      },
      "source": [
        "#### 6. Rephrase Text"
      ]
    },
    {
      "cell_type": "code",
      "execution_count": null,
      "metadata": {
        "id": "foqY80Qu48N2"
      },
      "outputs": [],
      "source": [
        "# Rephrase Text"
      ]
    },
    {
      "cell_type": "markdown",
      "metadata": {
        "id": "OeJFEK0N496M"
      },
      "source": [
        "#### 7. Tokenization"
      ]
    },
    {
      "cell_type": "code",
      "execution_count": null,
      "metadata": {
        "id": "ijx1rUOS5CUU"
      },
      "outputs": [],
      "source": [
        "# Tokenization"
      ]
    },
    {
      "cell_type": "markdown",
      "metadata": {
        "id": "9ExmJH0g5HBk"
      },
      "source": [
        "#### 8. Text Normalization"
      ]
    },
    {
      "cell_type": "code",
      "execution_count": null,
      "metadata": {
        "id": "AIJ1a-Zc5PY8"
      },
      "outputs": [],
      "source": [
        "# Normalizing Text (i.e., Stemming, Lemmatization etc.)"
      ]
    },
    {
      "cell_type": "markdown",
      "metadata": {
        "id": "cJNqERVU536h"
      },
      "source": [
        "##### Which text normalization technique have you used and why?"
      ]
    },
    {
      "cell_type": "markdown",
      "metadata": {
        "id": "Z9jKVxE06BC1"
      },
      "source": [
        "Answer Here."
      ]
    },
    {
      "cell_type": "markdown",
      "metadata": {
        "id": "k5UmGsbsOxih"
      },
      "source": [
        "#### 9. Part of speech tagging"
      ]
    },
    {
      "cell_type": "code",
      "execution_count": null,
      "metadata": {
        "id": "btT3ZJBAO6Ik"
      },
      "outputs": [],
      "source": [
        "# POS Taging"
      ]
    },
    {
      "cell_type": "markdown",
      "metadata": {
        "id": "T0VqWOYE6DLQ"
      },
      "source": [
        "#### 10. Text Vectorization"
      ]
    },
    {
      "cell_type": "code",
      "execution_count": null,
      "metadata": {
        "id": "yBRtdhth6JDE"
      },
      "outputs": [],
      "source": [
        "# Vectorizing Text"
      ]
    },
    {
      "cell_type": "markdown",
      "metadata": {
        "id": "qBMux9mC6MCf"
      },
      "source": [
        "##### Which text vectorization technique have you used and why?"
      ]
    },
    {
      "cell_type": "markdown",
      "metadata": {
        "id": "su2EnbCh6UKQ"
      },
      "source": [
        "Answer Here."
      ]
    },
    {
      "cell_type": "markdown",
      "metadata": {
        "id": "-oLEiFgy-5Pf"
      },
      "source": [
        "### 4. Feature Manipulation & Selection"
      ]
    },
    {
      "cell_type": "markdown",
      "metadata": {
        "id": "C74aWNz2AliB"
      },
      "source": [
        "#### 1. Feature Manipulation"
      ]
    },
    {
      "cell_type": "code",
      "execution_count": 75,
      "metadata": {
        "id": "h1qC4yhBApWC"
      },
      "outputs": [],
      "source": [
        "# Manipulate Features to minimize feature correlation and create new features\n",
        "# Convert 'Date' to datetime if not already done\n",
        "train['Date'] = pd.to_datetime(train['Date'])\n",
        "\n",
        "# Extract temporal features\n",
        "train['Day_of_Week'] = train['Date'].dt.dayofweek  # Monday=0, Sunday=6\n",
        "train['Is_Weekend'] = train['Day_of_Week'].apply(lambda x: 1 if x >= 5 else 0)\n",
        "train['Season'] = train['MONTH'].apply(lambda x: (x % 12 + 3) // 3)  # 1=Winter, 2=Spring, etc.\n",
        "train['Is_Night'] = train['HOUR'].apply(lambda x: 1 if x >= 20 or x <= 5 else 0)  # Night indicator\n"
      ]
    },
    {
      "cell_type": "code",
      "execution_count": 76,
      "metadata": {},
      "outputs": [],
      "source": [
        "# Calculate distance from a central point (e.g., city center)\n",
        "city_center = (491000, 5456000)  # Approximate coordinates\n",
        "train['Distance_From_Center'] = ((train['X'] - city_center[0])**2 + (train['Y'] - city_center[1])**2)**0.5\n"
      ]
    },
    {
      "cell_type": "code",
      "execution_count": 77,
      "metadata": {},
      "outputs": [],
      "source": [
        "# Drop unnecessary columns\n",
        "train.drop(['Date', 'Latitude', 'Longitude', 'HUNDRED_BLOCK'], axis=1, inplace=True)"
      ]
    },
    {
      "cell_type": "code",
      "execution_count": 79,
      "metadata": {},
      "outputs": [
        {
          "name": "stdout",
          "output_type": "stream",
          "text": [
            "   TYPE  NEIGHBOURHOOD         X           Y  HOUR  MINUTE  YEAR  MONTH  DAY  \\\n",
            "0     3             11  493906.5  5457452.47     0       0  1999      5   12   \n",
            "1     3             11  493906.5  5457452.47     0       0  1999      5    7   \n",
            "2     3             11  493906.5  5457452.47     0       0  1999      4   23   \n",
            "3     3             11  493906.5  5457452.47     0       0  1999      4   20   \n",
            "4     3             11  493906.5  5457452.47     0       0  1999      4   12   \n",
            "\n",
            "   Day_of_Week  Is_Weekend  Season  Is_Night  Distance_From_Center  \n",
            "0            2           0       2         1           3249.217037  \n",
            "1            4           0       2         1           3249.217037  \n",
            "2            4           0       2         1           3249.217037  \n",
            "3            1           0       2         1           3249.217037  \n",
            "4            0           0       2         1           3249.217037  \n"
          ]
        }
      ],
      "source": [
        "from sklearn.preprocessing import LabelEncoder\n",
        "\n",
        "# Initialize LabelEncoder\n",
        "le = LabelEncoder()\n",
        "\n",
        "# Encode categorical columns\n",
        "train['TYPE'] = le.fit_transform(train['TYPE'])\n",
        "train['NEIGHBOURHOOD'] = le.fit_transform(train['NEIGHBOURHOOD'])\n",
        "\n",
        "# Confirm the encoding\n",
        "print(train.head())\n"
      ]
    },
    {
      "cell_type": "code",
      "execution_count": 82,
      "metadata": {},
      "outputs": [
        {
          "data": {
            "image/png": "[encoded data removed]",
            "text/plain": [
              "<Figure size 1200x800 with 2 Axes>"
            ]
          },
          "metadata": {},
          "output_type": "display_data"
        }
      ],
      "source": [
        "correlation_matrix = train.corr()\n",
        "# Display the correlation matrix using a heatmap\n",
        "plt.figure(figsize=(12, 8))\n",
        "sns.heatmap(correlation_matrix, annot=True, cmap='coolwarm', fmt='.2f')\n",
        "plt.title('Feature Correlation Matrix')\n",
        "plt.show()\n"
      ]
    },
    {
      "cell_type": "code",
      "execution_count": 83,
      "metadata": {},
      "outputs": [
        {
          "name": "stdout",
          "output_type": "stream",
          "text": [
            "\n",
            "Highly Correlated Features (|correlation| > 0.8):\n",
            "\n",
            "Distance_From_Center ↔ X: 0.806\n"
          ]
        }
      ],
      "source": [
        "# Identify highly correlated features (with correlation > 0.8)\n",
        "threshold = 0.8\n",
        "high_corr_pairs = []\n",
        "\n",
        "for i in range(len(correlation_matrix.columns)):\n",
        "    for j in range(i):\n",
        "        if abs(correlation_matrix.iloc[i, j]) > threshold:\n",
        "            col1 = correlation_matrix.columns[i]\n",
        "            col2 = correlation_matrix.columns[j]\n",
        "            corr_value = correlation_matrix.iloc[i, j]\n",
        "            high_corr_pairs.append((col1, col2, corr_value))\n",
        "\n",
        "# Display highly correlated pairs\n",
        "if high_corr_pairs:\n",
        "    print(\"\\nHighly Correlated Features (|correlation| > 0.8):\\n\")\n",
        "    for col1, col2, corr_value in high_corr_pairs:\n",
        "        print(f\"{col1} ↔ {col2}: {corr_value:.3f}\")\n",
        "else:\n",
        "    print(\"\\nNo highly correlated features found!\")"
      ]
    },
    {
      "cell_type": "code",
      "execution_count": 84,
      "metadata": {},
      "outputs": [],
      "source": [
        "train.drop(['Distance_From_Center'], axis=1, inplace=True)"
      ]
    },
    {
      "cell_type": "code",
      "execution_count": 86,
      "metadata": {
        "id": "YLhe8UmaBCEE"
      },
      "outputs": [],
      "source": [
        "train['MONTH'] = pd.to_numeric(train['MONTH'], errors='coerce')\n"
      ]
    },
    {
      "cell_type": "code",
      "execution_count": 87,
      "metadata": {},
      "outputs": [
        {
          "name": "stdout",
          "output_type": "stream",
          "text": [
            "   MONTH  Crime_Count\n",
            "0      1        23743\n",
            "1      2        21757\n",
            "2      3        24146\n",
            "3      4        23528\n",
            "4      5        25198\n"
          ]
        }
      ],
      "source": [
        "# Create the target variable (Number of crimes per month)\n",
        "monthly_crime_counts =train.groupby('MONTH').size().reset_index(name='Crime_Count')\n",
        "\n",
        "print(monthly_crime_counts.head())"
      ]
    },
    {
      "cell_type": "code",
      "execution_count": 88,
      "metadata": {},
      "outputs": [],
      "source": [
        "train = pd.merge(train, monthly_crime_counts, on='MONTH', how='left')\n"
      ]
    },
    {
      "cell_type": "markdown",
      "metadata": {
        "id": "2DejudWSA-a0"
      },
      "source": [
        "#### 2. Feature Selection"
      ]
    },
    {
      "cell_type": "code",
      "execution_count": 91,
      "metadata": {},
      "outputs": [
        {
          "name": "stdout",
          "output_type": "stream",
          "text": [
            "Selected Features: ['MONTH', 'Season']\n"
          ]
        }
      ],
      "source": [
        "from sklearn.ensemble import RandomForestRegressor\n",
        "from sklearn.feature_selection import RFECV\n",
        "from sklearn.model_selection import train_test_split\n",
        "\n",
        "# Prepare features and target\n",
        "X = train.drop(columns='Crime_Count')\n",
        "y = train['Crime_Count']\n",
        "\n",
        "# Split dataset\n",
        "X_train, X_test, y_train, y_test = train_test_split(X, y, test_size=0.2, random_state=42)\n",
        "\n",
        "# Apply Random Forest for feature selection\n",
        "model = RandomForestRegressor(n_estimators=100, random_state=42)\n",
        "\n",
        "# Recursive Feature Elimination with Cross-Validation\n",
        "rfe = RFECV(model, step=1, cv=5, scoring='r2')\n",
        "rfe.fit(X_train, y_train)\n",
        "\n",
        "# Get selected features\n",
        "selected_features = X.columns[rfe.support_].tolist()\n",
        "\n",
        "print(f\"Selected Features: {selected_features}\")\n",
        "\n",
        "# Keep only selected features\n",
        "X_train = X_train[selected_features]\n",
        "X_test = X_test[selected_features]\n"
      ]
    },
    {
      "cell_type": "markdown",
      "metadata": {
        "id": "pEMng2IbBLp7"
      },
      "source": [
        "##### What all feature selection methods have you used  and why?"
      ]
    },
    {
      "cell_type": "markdown",
      "metadata": {
        "id": "rb2Lh6Z8BgGs"
      },
      "source": [
        "Recursive Feature Elimination (RFE) to identify the most predictive features."
      ]
    },
    {
      "cell_type": "markdown",
      "metadata": {
        "id": "rAdphbQ9Bhjc"
      },
      "source": [
        "##### Which all features you found important and why?"
      ]
    },
    {
      "cell_type": "markdown",
      "metadata": {
        "id": "fGgaEstsBnaf"
      },
      "source": [
        "'MONTH', 'Season'"
      ]
    },
    {
      "cell_type": "markdown",
      "metadata": {
        "id": "TNVZ9zx19K6k"
      },
      "source": [
        "### 5. Data Transformation"
      ]
    },
    {
      "cell_type": "markdown",
      "metadata": {
        "id": "nqoHp30x9hH9"
      },
      "source": [
        "#### Do you think that your data needs to be transformed? If yes, which transformation have you used. Explain Why?"
      ]
    },
    {
      "cell_type": "code",
      "execution_count": null,
      "metadata": {
        "id": "I6quWQ1T9rtH"
      },
      "outputs": [],
      "source": [
        "# Transform Your data"
      ]
    },
    {
      "cell_type": "markdown",
      "metadata": {
        "id": "rMDnDkt2B6du"
      },
      "source": [
        "### 6. Data Scaling"
      ]
    },
    {
      "cell_type": "code",
      "execution_count": 92,
      "metadata": {
        "id": "dL9LWpySC6x_"
      },
      "outputs": [
        {
          "name": "stdout",
          "output_type": "stream",
          "text": [
            "Standard Scaled Data (First 5 rows):\n",
            " [[-0.4626816  -0.49195976]\n",
            " [-0.4626816  -0.49195976]\n",
            " [-0.7577694  -0.49195976]\n",
            " [-0.7577694  -0.49195976]\n",
            " [-0.7577694  -0.49195976]]\n"
          ]
        }
      ],
      "source": [
        "# Scaling your data\n",
        "from sklearn.preprocessing import StandardScaler\n",
        "\n",
        "\n",
        "# Define features and target\n",
        "X = train[['MONTH', 'Season']]  # Selected features from the previous step\n",
        "y = train['Crime_Count']        # Replace with your target column\n",
        "\n",
        "# Apply StandardScaler (Z-score normalization)\n",
        "standard_scaler = StandardScaler()\n",
        "X_scaled_standard = standard_scaler.fit_transform(X)\n",
        "\n",
        "# Display scaled data (optional)\n",
        "print(\"Standard Scaled Data (First 5 rows):\\n\", X_scaled_standard[:5])\n",
        "\n",
        "# Convert scaled arrays to DataFrame\n",
        "X_standard_df = pd.DataFrame(X_scaled_standard, columns=X.columns)\n",
        "\n"
      ]
    },
    {
      "cell_type": "markdown",
      "metadata": {
        "id": "yiiVWRdJDDil"
      },
      "source": [
        "##### Which method have you used to scale you data and why?"
      ]
    },
    {
      "cell_type": "markdown",
      "metadata": {},
      "source": [
        "StandardScaler (Z-score normalization):\n",
        "Best for normally distributed data (mean = 0, standard deviation = 1)."
      ]
    },
    {
      "cell_type": "markdown",
      "metadata": {
        "id": "1UUpS68QDMuG"
      },
      "source": [
        "### 7. Dimesionality Reduction"
      ]
    },
    {
      "cell_type": "markdown",
      "metadata": {
        "id": "kexQrXU-DjzY"
      },
      "source": [
        "##### Do you think that dimensionality reduction is needed? Explain Why?"
      ]
    },
    {
      "cell_type": "markdown",
      "metadata": {
        "id": "GGRlBsSGDtTQ"
      },
      "source": [
        "Answer Here."
      ]
    },
    {
      "cell_type": "code",
      "execution_count": null,
      "metadata": {
        "id": "kQfvxBBHDvCa"
      },
      "outputs": [],
      "source": [
        "# DImensionality Reduction (If needed)"
      ]
    },
    {
      "cell_type": "markdown",
      "metadata": {
        "id": "T5CmagL3EC8N"
      },
      "source": [
        "##### Which dimensionality reduction technique have you used and why? (If dimensionality reduction done on dataset.)"
      ]
    },
    {
      "cell_type": "markdown",
      "metadata": {
        "id": "ZKr75IDuEM7t"
      },
      "source": [
        "Answer Here."
      ]
    },
    {
      "cell_type": "markdown",
      "metadata": {
        "id": "BhH2vgX9EjGr"
      },
      "source": [
        "### 8. Data Splitting"
      ]
    },
    {
      "cell_type": "code",
      "execution_count": null,
      "metadata": {
        "id": "0CTyd2UwEyNM"
      },
      "outputs": [],
      "source": [
        "# Split your data to train and test. Choose Splitting ratio wisely."
      ]
    },
    {
      "cell_type": "markdown",
      "metadata": {
        "id": "qjKvONjwE8ra"
      },
      "source": [
        "##### What data splitting ratio have you used and why?"
      ]
    },
    {
      "cell_type": "markdown",
      "metadata": {
        "id": "Y2lJ8cobFDb_"
      },
      "source": [
        "Answer Here."
      ]
    },
    {
      "cell_type": "markdown",
      "metadata": {
        "id": "P1XJ9OREExlT"
      },
      "source": [
        "### 9. Handling Imbalanced Dataset"
      ]
    },
    {
      "cell_type": "markdown",
      "metadata": {
        "id": "VFOzZv6IFROw"
      },
      "source": [
        "##### Do you think the dataset is imbalanced? Explain Why."
      ]
    },
    {
      "cell_type": "markdown",
      "metadata": {
        "id": "GeKDIv7pFgcC"
      },
      "source": [
        "Answer Here."
      ]
    },
    {
      "cell_type": "code",
      "execution_count": 94,
      "metadata": {
        "id": "nQsRhhZLFiDs"
      },
      "outputs": [
        {
          "name": "stdout",
          "output_type": "stream",
          "text": [
            "Crime_Count\n",
            "27142    27142\n",
            "25972    25972\n",
            "25788    25788\n",
            "25508    25508\n",
            "25226    25226\n",
            "25198    25198\n",
            "24146    24146\n",
            "24030    24030\n",
            "23743    23743\n",
            "23528    23528\n",
            "22985    22985\n",
            "21757    21757\n",
            "Name: count, dtype: int64\n",
            "Crime_Count\n",
            "27142    9.199961\n",
            "25972    8.803381\n",
            "25788    8.741013\n",
            "25508    8.646106\n",
            "25226    8.550520\n",
            "25198    8.541029\n",
            "24146    8.184447\n",
            "24030    8.145128\n",
            "23743    8.047847\n",
            "23528    7.974971\n",
            "22985    7.790918\n",
            "21757    7.374679\n",
            "Name: proportion, dtype: float64\n"
          ]
        }
      ],
      "source": [
        "# Handling Imbalanced Dataset (If needed)\n",
        "\n",
        "# Check class distribution (target variable: crime_count)\n",
        "print(train['Crime_Count'].value_counts())\n",
        "print(train['Crime_Count'].value_counts(normalize=True) * 100)  # Percentage distribution\n"
      ]
    },
    {
      "cell_type": "markdown",
      "metadata": {
        "id": "TIqpNgepFxVj"
      },
      "source": [
        "##### What technique did you use to handle the imbalance dataset and why? (If needed to be balanced)"
      ]
    },
    {
      "cell_type": "markdown",
      "metadata": {
        "id": "qbet1HwdGDTz"
      },
      "source": [
        "crime_count distribution appears relatively evenly spread, suggesting no severe class imbalance—each class has a comparable share of the dataset.\n",
        "\n"
      ]
    },
    {
      "cell_type": "markdown",
      "metadata": {
        "id": "VfCC591jGiD4"
      },
      "source": [
        "## ***7. ML Model Implementation***"
      ]
    },
    {
      "cell_type": "markdown",
      "metadata": {
        "id": "OB4l2ZhMeS1U"
      },
      "source": [
        "### ML Model - 1"
      ]
    },
    {
      "cell_type": "code",
      "execution_count": 96,
      "metadata": {
        "id": "7ebyywQieS1U"
      },
      "outputs": [
        {
          "name": "stdout",
          "output_type": "stream",
          "text": [
            "Linear Regression Metrics:\n",
            "R² Score: 0.44658007387011156\n",
            "RMSE: 1051.1065238243814\n",
            "MAE: 782.1337386601383\n"
          ]
        }
      ],
      "source": [
        "import pandas as pd\n",
        "import numpy as np\n",
        "from sklearn.model_selection import train_test_split\n",
        "from sklearn.preprocessing import StandardScaler\n",
        "from sklearn.linear_model import LinearRegression\n",
        "\n",
        "from sklearn.metrics import mean_squared_error, mean_absolute_error, r2_score\n",
        "\n",
        "\n",
        "# Features and target\n",
        "X = train[['MONTH', 'Season']]\n",
        "y = train['Crime_Count']\n",
        "\n",
        "# Split the dataset\n",
        "X_train, X_test, y_train, y_test = train_test_split(X, y, test_size=0.2, random_state=42)\n",
        "\n",
        "# Scale the data\n",
        "scaler = StandardScaler()\n",
        "X_train_scaled = scaler.fit_transform(X_train)\n",
        "X_test_scaled = scaler.transform(X_test)\n",
        "\n",
        "# Initialize models\n",
        "lin_reg = LinearRegression()\n",
        "\n",
        "# Train and evaluate Linear Regression\n",
        "lin_reg.fit(X_train_scaled, y_train)\n",
        "y_pred_lr = lin_reg.predict(X_test_scaled)\n",
        "\n",
        "print(\"Linear Regression Metrics:\")\n",
        "print(\"R² Score:\", r2_score(y_test, y_pred_lr))\n",
        "print(\"RMSE:\", np.sqrt(mean_squared_error(y_test, y_pred_lr)))\n",
        "print(\"MAE:\", mean_absolute_error(y_test, y_pred_lr))\n"
      ]
    },
    {
      "cell_type": "markdown",
      "metadata": {
        "id": "dJ2tPlVmpsJ0"
      },
      "source": [
        "### ML Model - 2"
      ]
    },
    {
      "cell_type": "markdown",
      "metadata": {
        "id": "JWYfwnehpsJ1"
      },
      "source": [
        "#### 1. Explain the ML Model used and it's performance using Evaluation metric Score Chart."
      ]
    },
    {
      "cell_type": "code",
      "execution_count": 100,
      "metadata": {
        "id": "yEl-hgQWpsJ1"
      },
      "outputs": [
        {
          "name": "stdout",
          "output_type": "stream",
          "text": [
            "\n",
            "Support Vector Regression Metrics:\n",
            "R² Score: 0.8850576039993325\n",
            "RMSE: 479.02641068243474\n",
            "MAE: 257.0451701073066\n"
          ]
        }
      ],
      "source": [
        "import pandas as pd\n",
        "import numpy as np\n",
        "from sklearn.model_selection import train_test_split\n",
        "from sklearn.preprocessing import StandardScaler\n",
        "from sklearn.svm import SVR\n",
        "from sklearn.metrics import mean_squared_error, mean_absolute_error, r2_score\n",
        "\n",
        "\n",
        "X = train[['MONTH', 'Season']]\n",
        "y = train['Crime_Count']\n",
        "\n",
        "# Split the dataset\n",
        "X_train, X_test, y_train, y_test = train_test_split(X, y, test_size=0.2, random_state=42)\n",
        "\n",
        "# Scale the data\n",
        "scaler = StandardScaler()\n",
        "X_train_scaled = scaler.fit_transform(X_train)\n",
        "X_test_scaled = scaler.transform(X_test)\n",
        "\n",
        "# Initialize models\n",
        "svr = SVR(kernel='rbf')\n",
        "\n",
        "# Train and evaluate Support Vector Regression\n",
        "svr.fit(X_train_scaled, y_train)\n",
        "y_pred_svr = svr.predict(X_test_scaled)\n",
        "\n",
        "print(\"\\nSupport Vector Regression Metrics:\")\n",
        "print(\"R² Score:\", r2_score(y_test, y_pred_svr))\n",
        "print(\"RMSE:\", np.sqrt(mean_squared_error(y_test, y_pred_svr)))\n",
        "print(\"MAE:\", mean_absolute_error(y_test, y_pred_svr))\n"
      ]
    },
    {
      "cell_type": "markdown",
      "metadata": {
        "id": "h_CCil-SKHpo"
      },
      "source": [
        "### 1. Which Evaluation metrics did you consider for a positive business impact and why?"
      ]
    },
    {
      "cell_type": "markdown",
      "metadata": {
        "id": "jHVz9hHDKFms"
      },
      "source": [
        "R² Score (Coefficient of Determination)\n",
        "Root Mean Squared Error (RMSE)\n",
        "Mean Absolute Error (MAE)\n",
        "\n",
        "\n",
        "RMSE is crucial because large errors in crime predictions could lead to misallocated resources or poor policy decisions.\n",
        "\n",
        "R² Score helps us understand how well the model fits the data.\n",
        "\n",
        "MAE is easy to interpret and shows the average prediction error in simple terms.\n",
        "\n"
      ]
    },
    {
      "cell_type": "markdown",
      "metadata": {
        "id": "cBFFvTBNJzUa"
      },
      "source": [
        "### 2. Which ML model did you choose from the above created models as your final prediction model and why?"
      ]
    },
    {
      "cell_type": "markdown",
      "metadata": {
        "id": "6ksF5Q1LKTVm"
      },
      "source": [
        "Support Vector Regression (SVR)\n",
        "\n",
        "Reason for choosing SVR:\n",
        "\n",
        "Higher R² Score (0.885): SVR explains 88.5% of the variance in the crime data compared to only 44.6% by Linear Regression. This indicates SVR fits the data significantly better.\n",
        "\n",
        "Lower RMSE (479): SVR has a much lower error magnitude, meaning its predictions are more accurate and have fewer large deviations.\n",
        "\n",
        "Lower MAE (257): The average prediction error is much smaller in SVR, making it the more reliable model.\n",
        "\n",
        "Business Impact: SVR’s superior performance means better forecasting accuracy, allowing for optimized police resource allocation, early crime pattern detection, and improved public safety planning.\n",
        "\n"
      ]
    },
    {
      "cell_type": "markdown",
      "metadata": {
        "id": "HvGl1hHyA_VK"
      },
      "source": [
        "### 3. Explain the model which you have used and the feature importance using any model explainability tool?"
      ]
    },
    {
      "cell_type": "markdown",
      "metadata": {
        "id": "YnvVTiIxBL-C"
      },
      "source": [
        "SVR works by finding a hyperplane that best fits the data within a margin of error (ϵ). It is robust against outliers and captures complex, non-linear relationships between features and the target variable.\n",
        "\n",
        "Month – Seasonal trends can significantly affect crime rates.\n",
        "\n",
        "Season – Certain seasons, like summer, may have higher crime rates."
      ]
    },
    {
      "cell_type": "markdown",
      "metadata": {
        "id": "-Kee-DAl2viO"
      },
      "source": [
        "### ***Congrats! Your model is successfully created and ready for deployment on a live server for a real user interaction !!!***"
      ]
    },
    {
      "cell_type": "markdown",
      "metadata": {
        "id": "gCX9965dhzqZ"
      },
      "source": [
        "# **Conclusion**"
      ]
    },
    {
      "cell_type": "markdown",
      "metadata": {
        "id": "Fjb1IsQkh3yE"
      },
      "source": [
        "The Support Vector Regression model provides an effective solution for predicting monthly crime incidents. It lays the foundation for data-driven decision-making, empowering law enforcement to mitigate crime more proactively and efficiently.\n",
        "\n",
        "Business Impact:\n",
        "\n",
        "Accurate crime prediction enables better law enforcement planning and resource allocation. With SVR’s robust predictions, authorities can:\n",
        "\n",
        "Anticipate crime surges in specific months or seasons.\n",
        "\n",
        "Enhance public safety by increasing surveillance during high-risk times.\n",
        "\n",
        "Optimize police deployment to prevent and respond to incidents more effectively.\n",
        "\n",
        "Future Scope:\n",
        "\n",
        "Incorporate additional features (e.g., socioeconomic factors, weather data) to improve model accuracy.\n",
        "\n",
        "Deploy the model as a real-time prediction system for law enforcement agencies.\n",
        "\n",
        "Explore advanced algorithms like Random Forest or XGBoost for further performance gains.\n",
        "\n"
      ]
    },
    {
      "cell_type": "markdown",
      "metadata": {
        "id": "gIfDvo9L0UH2"
      },
      "source": [
        "### ***Hurrah! You have successfully completed your Machine Learning Capstone Project !!!***"
      ]
    }
  ],
  "metadata": {
    "colab": {
      "collapsed_sections": [
        "vncDsAP0Gaoa",
        "FJNUwmbgGyua",
        "w6K7xa23Elo4",
        "yQaldy8SH6Dl",
        "mDgbUHAGgjLW",
        "O_i_v8NEhb9l",
        "HhfV-JJviCcP",
        "Y3lxredqlCYt",
        "3RnN4peoiCZX",
        "x71ZqKXriCWQ",
        "7hBIi_osiCS2",
        "JlHwYmJAmNHm",
        "35m5QtbWiB9F",
        "PoPl-ycgm1ru",
        "H0kj-8xxnORC",
        "nA9Y7ga8ng1Z",
        "PBTbrJXOngz2",
        "u3PMJOP6ngxN",
        "dauF4eBmngu3",
        "bKJF3rekwFvQ",
        "MSa1f5Uengrz",
        "GF8Ens_Soomf",
        "0wOQAZs5pc--",
        "K5QZ13OEpz2H",
        "lQ7QKXXCp7Bj",
        "448CDAPjqfQr",
        "KSlN3yHqYklG",
        "t6dVpIINYklI",
        "ijmpgYnKYklI",
        "-JiQyfWJYklI",
        "EM7whBJCYoAo",
        "fge-S5ZAYoAp",
        "85gYPyotYoAp",
        "RoGjAbkUYoAp",
        "4Of9eVA-YrdM",
        "iky9q4vBYrdO",
        "F6T5p64dYrdO",
        "y-Ehk30pYrdP",
        "bamQiAODYuh1",
        "QHF8YVU7Yuh3",
        "GwzvFGzlYuh3",
        "qYpmQ266Yuh3",
        "OH-pJp9IphqM",
        "bbFf2-_FphqN",
        "_ouA3fa0phqN",
        "Seke61FWphqN",
        "PIIx-8_IphqN",
        "t27r6nlMphqO",
        "r2jJGEOYphqO",
        "b0JNsNcRphqO",
        "BZR9WyysphqO",
        "jj7wYXLtphqO",
        "eZrbJ2SmphqO",
        "rFu4xreNphqO",
        "YJ55k-q6phqO",
        "gCFgpxoyphqP",
        "OVtJsKN_phqQ",
        "lssrdh5qphqQ",
        "U2RJ9gkRphqQ",
        "1M8mcRywphqQ",
        "tgIPom80phqQ",
        "JMzcOPDDphqR",
        "x-EpHcCOp1ci",
        "X_VqEhTip1ck",
        "8zGJKyg5p1ck",
        "PVzmfK_Ep1ck",
        "n3dbpmDWp1ck",
        "ylSl6qgtp1ck",
        "ZWILFDl5p1ck",
        "M7G43BXep1ck",
        "Ag9LCva-p1cl",
        "E6MkPsBcp1cl",
        "2cELzS2fp1cl",
        "3MPXvC8up1cl",
        "NC_X3p0fY2L0",
        "UV0SzAkaZNRQ",
        "YPEH6qLeZNRQ",
        "q29F0dvdveiT",
        "EXh0U9oCveiU",
        "22aHeOlLveiV",
        "g-ATYxFrGrvw",
        "Yfr_Vlr8HBkt",
        "8yEUt7NnHlrM",
        "tEA2Xm5dHt1r",
        "I79__PHVH19G",
        "Ou-I18pAyIpj",
        "fF3858GYyt-u",
        "4_0_7-oCpUZd",
        "hwyV_J3ipUZe",
        "3yB-zSqbpUZe",
        "dEUvejAfpUZe",
        "Fd15vwWVpUZf",
        "bn_IUdTipZyH",
        "49K5P_iCpZyH",
        "Nff-vKELpZyI",
        "kLW572S8pZyI",
        "dWbDXHzopZyI",
        "yLjJCtPM0KBk",
        "xiyOF9F70UgQ",
        "7wuGOrhz0itI",
        "id1riN9m0vUs",
        "578E2V7j08f6",
        "89xtkJwZ18nB",
        "67NQN5KX2AMe",
        "Iwf50b-R2tYG",
        "GMQiZwjn3iu7",
        "WVIkgGqN3qsr",
        "XkPnILGE3zoT",
        "Hlsf0x5436Go",
        "mT9DMSJo4nBL",
        "c49ITxTc407N",
        "OeJFEK0N496M",
        "9ExmJH0g5HBk",
        "cJNqERVU536h",
        "k5UmGsbsOxih",
        "T0VqWOYE6DLQ",
        "qBMux9mC6MCf",
        "-oLEiFgy-5Pf",
        "C74aWNz2AliB",
        "2DejudWSA-a0",
        "pEMng2IbBLp7",
        "rAdphbQ9Bhjc",
        "TNVZ9zx19K6k",
        "nqoHp30x9hH9",
        "rMDnDkt2B6du",
        "yiiVWRdJDDil",
        "1UUpS68QDMuG",
        "kexQrXU-DjzY",
        "T5CmagL3EC8N",
        "BhH2vgX9EjGr",
        "qjKvONjwE8ra",
        "P1XJ9OREExlT",
        "VFOzZv6IFROw",
        "TIqpNgepFxVj",
        "VfCC591jGiD4",
        "OB4l2ZhMeS1U",
        "ArJBuiUVfxKd",
        "4qY1EAkEfxKe",
        "PiV4Ypx8fxKe",
        "TfvqoZmBfxKf",
        "dJ2tPlVmpsJ0",
        "JWYfwnehpsJ1",
        "-jK_YjpMpsJ2",
        "HAih1iBOpsJ2",
        "zVGeBEFhpsJ2",
        "bmKjuQ-FpsJ3",
        "Fze-IPXLpx6K",
        "7AN1z2sKpx6M",
        "9PIHJqyupx6M",
        "_-qAgymDpx6N",
        "Z-hykwinpx6N",
        "h_CCil-SKHpo",
        "cBFFvTBNJzUa",
        "HvGl1hHyA_VK",
        "EyNgTHvd2WFk",
        "KH5McJBi2d8v",
        "iW_Lq9qf2h6X",
        "-Kee-DAl2viO",
        "gCX9965dhzqZ",
        "gIfDvo9L0UH2"
      ],
      "private_outputs": true,
      "provenance": []
    },
    "kernelspec": {
      "display_name": "Python 3",
      "name": "python3"
    },
    "language_info": {
      "codemirror_mode": {
        "name": "ipython",
        "version": 3
      },
      "file_extension": ".py",
      "mimetype": "text/x-python",
      "name": "python",
      "nbconvert_exporter": "python",
      "pygments_lexer": "ipython3",
      "version": "3.12.0"
    }
  },
  "nbformat": 4,
  "nbformat_minor": 0
}
